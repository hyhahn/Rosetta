{
 "cells": [
  {
   "cell_type": "markdown",
   "metadata": {},
   "source": [
    "# 로제타스톤 프로젝트 : RowFilter"
   ]
  },
  {
   "cell_type": "code",
   "execution_count": 42,
   "metadata": {},
   "outputs": [],
   "source": [
    "# 임포트 판다스\n",
    "\n",
    "import pandas as pd\n",
    "from pandas import DataFrame, Series"
   ]
  },
  {
   "cell_type": "markdown",
   "metadata": {},
   "source": [
    "## 엑셀파일 불러오기 "
   ]
  },
  {
   "cell_type": "code",
   "execution_count": 43,
   "metadata": {},
   "outputs": [],
   "source": [
    "df = pd.read_excel('Documents2.xlsx')"
   ]
  },
  {
   "cell_type": "code",
   "execution_count": 44,
   "metadata": {},
   "outputs": [
    {
     "data": {
      "text/html": [
       "<div>\n",
       "<style scoped>\n",
       "    .dataframe tbody tr th:only-of-type {\n",
       "        vertical-align: middle;\n",
       "    }\n",
       "\n",
       "    .dataframe tbody tr th {\n",
       "        vertical-align: top;\n",
       "    }\n",
       "\n",
       "    .dataframe thead th {\n",
       "        text-align: right;\n",
       "    }\n",
       "</style>\n",
       "<table border=\"1\" class=\"dataframe\">\n",
       "  <thead>\n",
       "    <tr style=\"text-align: right;\">\n",
       "      <th></th>\n",
       "      <th>번호</th>\n",
       "      <th>연구분야대분류</th>\n",
       "      <th>연구분야중분류</th>\n",
       "      <th>기준년도</th>\n",
       "      <th>사업부처</th>\n",
       "      <th>연구개발단계</th>\n",
       "      <th>사업화형태</th>\n",
       "      <th>연구수행주체</th>\n",
       "      <th>정부투자연구비합계</th>\n",
       "      <th>지원과제수</th>\n",
       "      <th>사업화성과건수합계</th>\n",
       "      <th>고용창출인원합계</th>\n",
       "      <th>당해년도매출액합계</th>\n",
       "    </tr>\n",
       "  </thead>\n",
       "  <tbody>\n",
       "    <tr>\n",
       "      <th>0</th>\n",
       "      <td>1</td>\n",
       "      <td>EA</td>\n",
       "      <td>EA01</td>\n",
       "      <td>2013</td>\n",
       "      <td>과학기술정보통신부</td>\n",
       "      <td>1기초연구</td>\n",
       "      <td>NaN</td>\n",
       "      <td>기타</td>\n",
       "      <td>1.010000e+08</td>\n",
       "      <td>1</td>\n",
       "      <td>0</td>\n",
       "      <td>0.0</td>\n",
       "      <td>0.0</td>\n",
       "    </tr>\n",
       "    <tr>\n",
       "      <th>1</th>\n",
       "      <td>2</td>\n",
       "      <td>EA</td>\n",
       "      <td>EA01</td>\n",
       "      <td>2013</td>\n",
       "      <td>과학기술정보통신부</td>\n",
       "      <td>1기초연구</td>\n",
       "      <td>NaN</td>\n",
       "      <td>대학</td>\n",
       "      <td>4.761042e+09</td>\n",
       "      <td>27</td>\n",
       "      <td>0</td>\n",
       "      <td>0.0</td>\n",
       "      <td>0.0</td>\n",
       "    </tr>\n",
       "    <tr>\n",
       "      <th>2</th>\n",
       "      <td>3</td>\n",
       "      <td>EA</td>\n",
       "      <td>EA01</td>\n",
       "      <td>2013</td>\n",
       "      <td>과학기술정보통신부</td>\n",
       "      <td>1기초연구</td>\n",
       "      <td>NaN</td>\n",
       "      <td>출연연구소</td>\n",
       "      <td>6.961235e+10</td>\n",
       "      <td>30</td>\n",
       "      <td>0</td>\n",
       "      <td>0.0</td>\n",
       "      <td>0.0</td>\n",
       "    </tr>\n",
       "  </tbody>\n",
       "</table>\n",
       "</div>"
      ],
      "text/plain": [
       "   번호 연구분야대분류 연구분야중분류  기준년도       사업부처 연구개발단계 사업화형태 연구수행주체     정부투자연구비합계  \\\n",
       "0   1      EA    EA01  2013  과학기술정보통신부  1기초연구   NaN     기타  1.010000e+08   \n",
       "1   2      EA    EA01  2013  과학기술정보통신부  1기초연구   NaN     대학  4.761042e+09   \n",
       "2   3      EA    EA01  2013  과학기술정보통신부  1기초연구   NaN  출연연구소  6.961235e+10   \n",
       "\n",
       "   지원과제수  사업화성과건수합계  고용창출인원합계  당해년도매출액합계  \n",
       "0      1          0       0.0        0.0  \n",
       "1     27          0       0.0        0.0  \n",
       "2     30          0       0.0        0.0  "
      ]
     },
     "execution_count": 44,
     "metadata": {},
     "output_type": "execute_result"
    }
   ],
   "source": [
    "df.head(3)"
   ]
  },
  {
   "cell_type": "code",
   "execution_count": 45,
   "metadata": {},
   "outputs": [
    {
     "name": "stdout",
     "output_type": "stream",
     "text": [
      "<class 'pandas.core.frame.DataFrame'>\n",
      "RangeIndex: 56925 entries, 0 to 56924\n",
      "Data columns (total 13 columns):\n",
      " #   Column     Non-Null Count  Dtype  \n",
      "---  ------     --------------  -----  \n",
      " 0   번호         56925 non-null  int64  \n",
      " 1   연구분야대분류    56489 non-null  object \n",
      " 2   연구분야중분류    56925 non-null  object \n",
      " 3   기준년도       56925 non-null  int64  \n",
      " 4   사업부처       56925 non-null  object \n",
      " 5   연구개발단계     56925 non-null  object \n",
      " 6   사업화형태      10987 non-null  object \n",
      " 7   연구수행주체     56925 non-null  object \n",
      " 8   정부투자연구비합계  56925 non-null  float64\n",
      " 9   지원과제수      56925 non-null  int64  \n",
      " 10  사업화성과건수합계  56925 non-null  int64  \n",
      " 11  고용창출인원합계   56925 non-null  float64\n",
      " 12  당해년도매출액합계  56925 non-null  float64\n",
      "dtypes: float64(3), int64(4), object(6)\n",
      "memory usage: 5.6+ MB\n"
     ]
    }
   ],
   "source": [
    "df.info()"
   ]
  },
  {
   "cell_type": "markdown",
   "metadata": {},
   "source": [
    "## missing data 처리 \n",
    "- 자신만의 기준 설정하고 처리하기"
   ]
  },
  {
   "cell_type": "code",
   "execution_count": 46,
   "metadata": {},
   "outputs": [
    {
     "name": "stdout",
     "output_type": "stream",
     "text": [
      "<class 'pandas.core.frame.DataFrame'>\n",
      "Int64Index: 10987 entries, 3 to 56897\n",
      "Data columns (total 13 columns):\n",
      " #   Column     Non-Null Count  Dtype  \n",
      "---  ------     --------------  -----  \n",
      " 0   번호         10987 non-null  int64  \n",
      " 1   연구분야대분류    10972 non-null  object \n",
      " 2   연구분야중분류    10987 non-null  object \n",
      " 3   기준년도       10987 non-null  int64  \n",
      " 4   사업부처       10987 non-null  object \n",
      " 5   연구개발단계     10987 non-null  object \n",
      " 6   사업화형태      10987 non-null  object \n",
      " 7   연구수행주체     10987 non-null  object \n",
      " 8   정부투자연구비합계  10987 non-null  float64\n",
      " 9   지원과제수      10987 non-null  int64  \n",
      " 10  사업화성과건수합계  10987 non-null  int64  \n",
      " 11  고용창출인원합계   10987 non-null  float64\n",
      " 12  당해년도매출액합계  10987 non-null  float64\n",
      "dtypes: float64(3), int64(4), object(6)\n",
      "memory usage: 1.2+ MB\n"
     ]
    }
   ],
   "source": [
    "df_raw2 = df.dropna(subset=['사업화형태'])\n",
    "df_raw2.info()"
   ]
  },
  {
   "cell_type": "code",
   "execution_count": 47,
   "metadata": {},
   "outputs": [
    {
     "data": {
      "text/plain": [
       "기술보유자의 직접사업화_기존업체-상품화     4862\n",
       "기술보유자의 직접사업화_기존업체-공정개선    1587\n",
       "기술이전_기존업체-상품화             1568\n",
       "기술이전_기존업체-공정개선            1323\n",
       "기술보유자의 직접사업화_창업           1250\n",
       "기술이전_창업                    397\n",
       "Name: 사업화형태, dtype: int64"
      ]
     },
     "execution_count": 47,
     "metadata": {},
     "output_type": "execute_result"
    }
   ],
   "source": [
    "df_raw2['사업화형태'].value_counts()"
   ]
  },
  {
   "cell_type": "code",
   "execution_count": 48,
   "metadata": {},
   "outputs": [],
   "source": [
    "#help(df.dropna)"
   ]
  },
  {
   "cell_type": "markdown",
   "metadata": {},
   "source": [
    "## 조건에 맞는 데이터 추출"
   ]
  },
  {
   "cell_type": "code",
   "execution_count": 49,
   "metadata": {},
   "outputs": [],
   "source": [
    "# and, or 논리 연산자 (logic operator)\n",
    "\n",
    "condition1 = (df_raw2['당해년도매출액합계'] > 0) \n",
    "condition2 = (df_raw2['고용창출인원합계']>5 )\n",
    "condition3 = (df_raw2['지원과제수']>3)"
   ]
  },
  {
   "cell_type": "code",
   "execution_count": 50,
   "metadata": {},
   "outputs": [
    {
     "data": {
      "text/plain": [
       "3        False\n",
       "8        False\n",
       "9        False\n",
       "18       False\n",
       "21       False\n",
       "         ...  \n",
       "56884    False\n",
       "56894    False\n",
       "56895    False\n",
       "56896    False\n",
       "56897    False\n",
       "Length: 10987, dtype: bool"
      ]
     },
     "execution_count": 50,
     "metadata": {},
     "output_type": "execute_result"
    }
   ],
   "source": [
    "condition1 & condition2"
   ]
  },
  {
   "cell_type": "code",
   "execution_count": 51,
   "metadata": {},
   "outputs": [],
   "source": [
    "df_raw3 = df_raw2[condition1 & condition2 & condition3]"
   ]
  },
  {
   "cell_type": "markdown",
   "metadata": {},
   "source": [
    "# Nominal Value Row Filter"
   ]
  },
  {
   "cell_type": "code",
   "execution_count": 52,
   "metadata": {},
   "outputs": [],
   "source": [
    "condition4 = (df['사업부처'] == '과학기술정보통신부') "
   ]
  },
  {
   "cell_type": "code",
   "execution_count": 53,
   "metadata": {},
   "outputs": [],
   "source": [
    "df_raw4 = df[condition4]"
   ]
  },
  {
   "cell_type": "code",
   "execution_count": 54,
   "metadata": {},
   "outputs": [
    {
     "data": {
      "text/html": [
       "<div>\n",
       "<style scoped>\n",
       "    .dataframe tbody tr th:only-of-type {\n",
       "        vertical-align: middle;\n",
       "    }\n",
       "\n",
       "    .dataframe tbody tr th {\n",
       "        vertical-align: top;\n",
       "    }\n",
       "\n",
       "    .dataframe thead th {\n",
       "        text-align: right;\n",
       "    }\n",
       "</style>\n",
       "<table border=\"1\" class=\"dataframe\">\n",
       "  <thead>\n",
       "    <tr style=\"text-align: right;\">\n",
       "      <th></th>\n",
       "      <th>번호</th>\n",
       "      <th>연구분야대분류</th>\n",
       "      <th>연구분야중분류</th>\n",
       "      <th>기준년도</th>\n",
       "      <th>사업부처</th>\n",
       "      <th>연구개발단계</th>\n",
       "      <th>사업화형태</th>\n",
       "      <th>연구수행주체</th>\n",
       "      <th>정부투자연구비합계</th>\n",
       "      <th>지원과제수</th>\n",
       "      <th>사업화성과건수합계</th>\n",
       "      <th>고용창출인원합계</th>\n",
       "      <th>당해년도매출액합계</th>\n",
       "    </tr>\n",
       "  </thead>\n",
       "  <tbody>\n",
       "    <tr>\n",
       "      <th>0</th>\n",
       "      <td>1</td>\n",
       "      <td>EA</td>\n",
       "      <td>EA01</td>\n",
       "      <td>2013</td>\n",
       "      <td>과학기술정보통신부</td>\n",
       "      <td>1기초연구</td>\n",
       "      <td>NaN</td>\n",
       "      <td>기타</td>\n",
       "      <td>1.010000e+08</td>\n",
       "      <td>1</td>\n",
       "      <td>0</td>\n",
       "      <td>0.0</td>\n",
       "      <td>0.0</td>\n",
       "    </tr>\n",
       "    <tr>\n",
       "      <th>1</th>\n",
       "      <td>2</td>\n",
       "      <td>EA</td>\n",
       "      <td>EA01</td>\n",
       "      <td>2013</td>\n",
       "      <td>과학기술정보통신부</td>\n",
       "      <td>1기초연구</td>\n",
       "      <td>NaN</td>\n",
       "      <td>대학</td>\n",
       "      <td>4.761042e+09</td>\n",
       "      <td>27</td>\n",
       "      <td>0</td>\n",
       "      <td>0.0</td>\n",
       "      <td>0.0</td>\n",
       "    </tr>\n",
       "    <tr>\n",
       "      <th>2</th>\n",
       "      <td>3</td>\n",
       "      <td>EA</td>\n",
       "      <td>EA01</td>\n",
       "      <td>2013</td>\n",
       "      <td>과학기술정보통신부</td>\n",
       "      <td>1기초연구</td>\n",
       "      <td>NaN</td>\n",
       "      <td>출연연구소</td>\n",
       "      <td>6.961235e+10</td>\n",
       "      <td>30</td>\n",
       "      <td>0</td>\n",
       "      <td>0.0</td>\n",
       "      <td>0.0</td>\n",
       "    </tr>\n",
       "  </tbody>\n",
       "</table>\n",
       "</div>"
      ],
      "text/plain": [
       "   번호 연구분야대분류 연구분야중분류  기준년도       사업부처 연구개발단계 사업화형태 연구수행주체     정부투자연구비합계  \\\n",
       "0   1      EA    EA01  2013  과학기술정보통신부  1기초연구   NaN     기타  1.010000e+08   \n",
       "1   2      EA    EA01  2013  과학기술정보통신부  1기초연구   NaN     대학  4.761042e+09   \n",
       "2   3      EA    EA01  2013  과학기술정보통신부  1기초연구   NaN  출연연구소  6.961235e+10   \n",
       "\n",
       "   지원과제수  사업화성과건수합계  고용창출인원합계  당해년도매출액합계  \n",
       "0      1          0       0.0        0.0  \n",
       "1     27          0       0.0        0.0  \n",
       "2     30          0       0.0        0.0  "
      ]
     },
     "execution_count": 54,
     "metadata": {},
     "output_type": "execute_result"
    }
   ],
   "source": [
    "df_raw4.head(3)"
   ]
  },
  {
   "cell_type": "code",
   "execution_count": 55,
   "metadata": {},
   "outputs": [
    {
     "data": {
      "text/plain": [
       "과학기술정보통신부    12253\n",
       "Name: 사업부처, dtype: int64"
      ]
     },
     "execution_count": 55,
     "metadata": {},
     "output_type": "execute_result"
    }
   ],
   "source": [
    "df_raw4['사업부처'].value_counts()"
   ]
  },
  {
   "cell_type": "code",
   "execution_count": null,
   "metadata": {},
   "outputs": [],
   "source": []
  },
  {
   "cell_type": "code",
   "execution_count": null,
   "metadata": {},
   "outputs": [],
   "source": []
  },
  {
   "cell_type": "code",
   "execution_count": null,
   "metadata": {},
   "outputs": [],
   "source": []
  }
 ],
 "metadata": {
  "kernelspec": {
   "display_name": "Python 3",
   "language": "python",
   "name": "python3"
  },
  "language_info": {
   "codemirror_mode": {
    "name": "ipython",
    "version": 3
   },
   "file_extension": ".py",
   "mimetype": "text/x-python",
   "name": "python",
   "nbconvert_exporter": "python",
   "pygments_lexer": "ipython3",
   "version": "3.7.6"
  },
  "toc-autonumbering": true,
  "toc-showmarkdowntxt": false
 },
 "nbformat": 4,
 "nbformat_minor": 4
}
