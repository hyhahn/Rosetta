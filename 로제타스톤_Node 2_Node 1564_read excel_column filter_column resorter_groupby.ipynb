{
 "cells": [
  {
   "cell_type": "markdown",
   "metadata": {},
   "source": [
    "# 로제타스톤 프로젝트"
   ]
  },
  {
   "cell_type": "code",
   "execution_count": 1,
   "metadata": {},
   "outputs": [],
   "source": [
    "# 임포트 판다스\n",
    "\n",
    "import pandas as pd\n",
    "from pandas import DataFrame, Series"
   ]
  },
  {
   "cell_type": "markdown",
   "metadata": {},
   "source": [
    "## 엑셀파일 불러오기 "
   ]
  },
  {
   "cell_type": "code",
   "execution_count": 2,
   "metadata": {},
   "outputs": [],
   "source": [
    "df = pd.read_excel('Documents2.xlsx')"
   ]
  },
  {
   "cell_type": "code",
   "execution_count": 3,
   "metadata": {},
   "outputs": [
    {
     "data": {
      "text/html": [
       "<div>\n",
       "<style scoped>\n",
       "    .dataframe tbody tr th:only-of-type {\n",
       "        vertical-align: middle;\n",
       "    }\n",
       "\n",
       "    .dataframe tbody tr th {\n",
       "        vertical-align: top;\n",
       "    }\n",
       "\n",
       "    .dataframe thead th {\n",
       "        text-align: right;\n",
       "    }\n",
       "</style>\n",
       "<table border=\"1\" class=\"dataframe\">\n",
       "  <thead>\n",
       "    <tr style=\"text-align: right;\">\n",
       "      <th></th>\n",
       "      <th>번호</th>\n",
       "      <th>연구분야대분류</th>\n",
       "      <th>연구분야중분류</th>\n",
       "      <th>기준년도</th>\n",
       "      <th>사업부처</th>\n",
       "      <th>연구개발단계</th>\n",
       "      <th>사업화형태</th>\n",
       "      <th>연구수행주체</th>\n",
       "      <th>정부투자연구비합계</th>\n",
       "      <th>지원과제수</th>\n",
       "      <th>사업화성과건수합계</th>\n",
       "      <th>고용창출인원합계</th>\n",
       "      <th>당해년도매출액합계</th>\n",
       "    </tr>\n",
       "  </thead>\n",
       "  <tbody>\n",
       "    <tr>\n",
       "      <th>0</th>\n",
       "      <td>1</td>\n",
       "      <td>EA</td>\n",
       "      <td>EA01</td>\n",
       "      <td>2013</td>\n",
       "      <td>과학기술정보통신부</td>\n",
       "      <td>1기초연구</td>\n",
       "      <td>NaN</td>\n",
       "      <td>기타</td>\n",
       "      <td>1.010000e+08</td>\n",
       "      <td>1</td>\n",
       "      <td>0</td>\n",
       "      <td>0.0</td>\n",
       "      <td>0.0</td>\n",
       "    </tr>\n",
       "    <tr>\n",
       "      <th>1</th>\n",
       "      <td>2</td>\n",
       "      <td>EA</td>\n",
       "      <td>EA01</td>\n",
       "      <td>2013</td>\n",
       "      <td>과학기술정보통신부</td>\n",
       "      <td>1기초연구</td>\n",
       "      <td>NaN</td>\n",
       "      <td>대학</td>\n",
       "      <td>4.761042e+09</td>\n",
       "      <td>27</td>\n",
       "      <td>0</td>\n",
       "      <td>0.0</td>\n",
       "      <td>0.0</td>\n",
       "    </tr>\n",
       "    <tr>\n",
       "      <th>2</th>\n",
       "      <td>3</td>\n",
       "      <td>EA</td>\n",
       "      <td>EA01</td>\n",
       "      <td>2013</td>\n",
       "      <td>과학기술정보통신부</td>\n",
       "      <td>1기초연구</td>\n",
       "      <td>NaN</td>\n",
       "      <td>출연연구소</td>\n",
       "      <td>6.961235e+10</td>\n",
       "      <td>30</td>\n",
       "      <td>0</td>\n",
       "      <td>0.0</td>\n",
       "      <td>0.0</td>\n",
       "    </tr>\n",
       "  </tbody>\n",
       "</table>\n",
       "</div>"
      ],
      "text/plain": [
       "   번호 연구분야대분류 연구분야중분류  기준년도       사업부처 연구개발단계 사업화형태 연구수행주체     정부투자연구비합계  \\\n",
       "0   1      EA    EA01  2013  과학기술정보통신부  1기초연구   NaN     기타  1.010000e+08   \n",
       "1   2      EA    EA01  2013  과학기술정보통신부  1기초연구   NaN     대학  4.761042e+09   \n",
       "2   3      EA    EA01  2013  과학기술정보통신부  1기초연구   NaN  출연연구소  6.961235e+10   \n",
       "\n",
       "   지원과제수  사업화성과건수합계  고용창출인원합계  당해년도매출액합계  \n",
       "0      1          0       0.0        0.0  \n",
       "1     27          0       0.0        0.0  \n",
       "2     30          0       0.0        0.0  "
      ]
     },
     "execution_count": 3,
     "metadata": {},
     "output_type": "execute_result"
    }
   ],
   "source": [
    "df.head(3)"
   ]
  },
  {
   "cell_type": "code",
   "execution_count": 4,
   "metadata": {},
   "outputs": [
    {
     "name": "stdout",
     "output_type": "stream",
     "text": [
      "<class 'pandas.core.frame.DataFrame'>\n",
      "RangeIndex: 56925 entries, 0 to 56924\n",
      "Data columns (total 13 columns):\n",
      " #   Column     Non-Null Count  Dtype  \n",
      "---  ------     --------------  -----  \n",
      " 0   번호         56925 non-null  int64  \n",
      " 1   연구분야대분류    56489 non-null  object \n",
      " 2   연구분야중분류    56925 non-null  object \n",
      " 3   기준년도       56925 non-null  int64  \n",
      " 4   사업부처       56925 non-null  object \n",
      " 5   연구개발단계     56925 non-null  object \n",
      " 6   사업화형태      10987 non-null  object \n",
      " 7   연구수행주체     56925 non-null  object \n",
      " 8   정부투자연구비합계  56925 non-null  float64\n",
      " 9   지원과제수      56925 non-null  int64  \n",
      " 10  사업화성과건수합계  56925 non-null  int64  \n",
      " 11  고용창출인원합계   56925 non-null  float64\n",
      " 12  당해년도매출액합계  56925 non-null  float64\n",
      "dtypes: float64(3), int64(4), object(6)\n",
      "memory usage: 5.6+ MB\n"
     ]
    }
   ],
   "source": [
    "df.info()"
   ]
  },
  {
   "cell_type": "markdown",
   "metadata": {},
   "source": [
    "## missing data 처리 \n",
    "- 자신만의 기준 설정하고 처리하기"
   ]
  },
  {
   "cell_type": "code",
   "execution_count": 5,
   "metadata": {},
   "outputs": [
    {
     "name": "stdout",
     "output_type": "stream",
     "text": [
      "<class 'pandas.core.frame.DataFrame'>\n",
      "Int64Index: 10987 entries, 3 to 56897\n",
      "Data columns (total 13 columns):\n",
      " #   Column     Non-Null Count  Dtype  \n",
      "---  ------     --------------  -----  \n",
      " 0   번호         10987 non-null  int64  \n",
      " 1   연구분야대분류    10972 non-null  object \n",
      " 2   연구분야중분류    10987 non-null  object \n",
      " 3   기준년도       10987 non-null  int64  \n",
      " 4   사업부처       10987 non-null  object \n",
      " 5   연구개발단계     10987 non-null  object \n",
      " 6   사업화형태      10987 non-null  object \n",
      " 7   연구수행주체     10987 non-null  object \n",
      " 8   정부투자연구비합계  10987 non-null  float64\n",
      " 9   지원과제수      10987 non-null  int64  \n",
      " 10  사업화성과건수합계  10987 non-null  int64  \n",
      " 11  고용창출인원합계   10987 non-null  float64\n",
      " 12  당해년도매출액합계  10987 non-null  float64\n",
      "dtypes: float64(3), int64(4), object(6)\n",
      "memory usage: 1.2+ MB\n"
     ]
    }
   ],
   "source": [
    "df_raw2 = df.dropna(subset=['사업화형태'])\n",
    "df_raw2.info()"
   ]
  },
  {
   "cell_type": "code",
   "execution_count": 6,
   "metadata": {},
   "outputs": [
    {
     "data": {
      "text/plain": [
       "기술보유자의 직접사업화_기존업체-상품화     4862\n",
       "기술보유자의 직접사업화_기존업체-공정개선    1587\n",
       "기술이전_기존업체-상품화             1568\n",
       "기술이전_기존업체-공정개선            1323\n",
       "기술보유자의 직접사업화_창업           1250\n",
       "기술이전_창업                    397\n",
       "Name: 사업화형태, dtype: int64"
      ]
     },
     "execution_count": 6,
     "metadata": {},
     "output_type": "execute_result"
    }
   ],
   "source": [
    "df_raw2['사업화형태'].value_counts()"
   ]
  },
  {
   "cell_type": "code",
   "execution_count": 7,
   "metadata": {},
   "outputs": [],
   "source": [
    "#help(df.dropna)"
   ]
  },
  {
   "cell_type": "markdown",
   "metadata": {},
   "source": [
    "## 조건에 맞는 데이터 추출"
   ]
  },
  {
   "cell_type": "code",
   "execution_count": 8,
   "metadata": {},
   "outputs": [],
   "source": [
    "# and, or 논리 연산자 (logic operator)\n",
    "\n",
    "condition1 = (df_raw2['당해년도매출액합계'] > 0) \n",
    "condition2 = (df_raw2['고용창출인원합계']>5 )\n",
    "condition3 = (df_raw2['지원과제수']>3)"
   ]
  },
  {
   "cell_type": "code",
   "execution_count": 9,
   "metadata": {},
   "outputs": [
    {
     "data": {
      "text/plain": [
       "3        False\n",
       "8        False\n",
       "9        False\n",
       "18       False\n",
       "21       False\n",
       "         ...  \n",
       "56884    False\n",
       "56894    False\n",
       "56895    False\n",
       "56896    False\n",
       "56897    False\n",
       "Length: 10987, dtype: bool"
      ]
     },
     "execution_count": 9,
     "metadata": {},
     "output_type": "execute_result"
    }
   ],
   "source": [
    "condition1 & condition2"
   ]
  },
  {
   "cell_type": "code",
   "execution_count": 10,
   "metadata": {},
   "outputs": [],
   "source": [
    "df_raw3 = df_raw2[condition1 & condition2 & condition3]"
   ]
  },
  {
   "cell_type": "code",
   "execution_count": 11,
   "metadata": {},
   "outputs": [],
   "source": [
    "df_raw3.to_excel('test_01.xlsx')"
   ]
  },
  {
   "cell_type": "markdown",
   "metadata": {},
   "source": [
    "## 컬럼 필터"
   ]
  },
  {
   "cell_type": "code",
   "execution_count": 12,
   "metadata": {},
   "outputs": [],
   "source": [
    "#help(DataFrame)"
   ]
  },
  {
   "cell_type": "code",
   "execution_count": 14,
   "metadata": {},
   "outputs": [
    {
     "data": {
      "text/html": [
       "<div>\n",
       "<style scoped>\n",
       "    .dataframe tbody tr th:only-of-type {\n",
       "        vertical-align: middle;\n",
       "    }\n",
       "\n",
       "    .dataframe tbody tr th {\n",
       "        vertical-align: top;\n",
       "    }\n",
       "\n",
       "    .dataframe thead th {\n",
       "        text-align: right;\n",
       "    }\n",
       "</style>\n",
       "<table border=\"1\" class=\"dataframe\">\n",
       "  <thead>\n",
       "    <tr style=\"text-align: right;\">\n",
       "      <th></th>\n",
       "      <th>연구분야대분류</th>\n",
       "      <th>번호</th>\n",
       "      <th>연구분야중분류</th>\n",
       "      <th>사업부처</th>\n",
       "      <th>연구개발단계</th>\n",
       "      <th>사업화형태</th>\n",
       "      <th>연구수행주체</th>\n",
       "      <th>정부투자연구비합계</th>\n",
       "      <th>지원과제수</th>\n",
       "      <th>사업화성과건수합계</th>\n",
       "      <th>고용창출인원합계</th>\n",
       "      <th>당해년도매출액합계</th>\n",
       "    </tr>\n",
       "  </thead>\n",
       "  <tbody>\n",
       "    <tr>\n",
       "      <th>0</th>\n",
       "      <td>EA</td>\n",
       "      <td>1</td>\n",
       "      <td>EA01</td>\n",
       "      <td>과학기술정보통신부</td>\n",
       "      <td>1기초연구</td>\n",
       "      <td>NaN</td>\n",
       "      <td>기타</td>\n",
       "      <td>1.010000e+08</td>\n",
       "      <td>1</td>\n",
       "      <td>0</td>\n",
       "      <td>0.0</td>\n",
       "      <td>0.0</td>\n",
       "    </tr>\n",
       "    <tr>\n",
       "      <th>1</th>\n",
       "      <td>EA</td>\n",
       "      <td>2</td>\n",
       "      <td>EA01</td>\n",
       "      <td>과학기술정보통신부</td>\n",
       "      <td>1기초연구</td>\n",
       "      <td>NaN</td>\n",
       "      <td>대학</td>\n",
       "      <td>4.761042e+09</td>\n",
       "      <td>27</td>\n",
       "      <td>0</td>\n",
       "      <td>0.0</td>\n",
       "      <td>0.0</td>\n",
       "    </tr>\n",
       "    <tr>\n",
       "      <th>2</th>\n",
       "      <td>EA</td>\n",
       "      <td>3</td>\n",
       "      <td>EA01</td>\n",
       "      <td>과학기술정보통신부</td>\n",
       "      <td>1기초연구</td>\n",
       "      <td>NaN</td>\n",
       "      <td>출연연구소</td>\n",
       "      <td>6.961235e+10</td>\n",
       "      <td>30</td>\n",
       "      <td>0</td>\n",
       "      <td>0.0</td>\n",
       "      <td>0.0</td>\n",
       "    </tr>\n",
       "  </tbody>\n",
       "</table>\n",
       "</div>"
      ],
      "text/plain": [
       "  연구분야대분류  번호 연구분야중분류       사업부처 연구개발단계 사업화형태 연구수행주체     정부투자연구비합계  지원과제수  \\\n",
       "0      EA   1    EA01  과학기술정보통신부  1기초연구   NaN     기타  1.010000e+08      1   \n",
       "1      EA   2    EA01  과학기술정보통신부  1기초연구   NaN     대학  4.761042e+09     27   \n",
       "2      EA   3    EA01  과학기술정보통신부  1기초연구   NaN  출연연구소  6.961235e+10     30   \n",
       "\n",
       "   사업화성과건수합계  고용창출인원합계  당해년도매출액합계  \n",
       "0          0       0.0        0.0  \n",
       "1          0       0.0        0.0  \n",
       "2          0       0.0        0.0  "
      ]
     },
     "execution_count": 14,
     "metadata": {},
     "output_type": "execute_result"
    }
   ],
   "source": [
    "df2 = df[['연구분야대분류','번호',  '연구분야중분류',\n",
    "          '사업부처', '연구개발단계', '사업화형태', '연구수행주체',\n",
    "          '정부투자연구비합계', '지원과제수', '사업화성과건수합계', \n",
    "          '고용창출인원합계', '당해년도매출액합계']]\n",
    "df2.head(3)"
   ]
  },
  {
   "cell_type": "markdown",
   "metadata": {},
   "source": [
    "## 소팅"
   ]
  },
  {
   "cell_type": "code",
   "execution_count": 15,
   "metadata": {},
   "outputs": [
    {
     "data": {
      "text/html": [
       "<div>\n",
       "<style scoped>\n",
       "    .dataframe tbody tr th:only-of-type {\n",
       "        vertical-align: middle;\n",
       "    }\n",
       "\n",
       "    .dataframe tbody tr th {\n",
       "        vertical-align: top;\n",
       "    }\n",
       "\n",
       "    .dataframe thead th {\n",
       "        text-align: right;\n",
       "    }\n",
       "</style>\n",
       "<table border=\"1\" class=\"dataframe\">\n",
       "  <thead>\n",
       "    <tr style=\"text-align: right;\">\n",
       "      <th></th>\n",
       "      <th>연구분야대분류</th>\n",
       "      <th>번호</th>\n",
       "      <th>연구분야중분류</th>\n",
       "      <th>사업부처</th>\n",
       "      <th>연구개발단계</th>\n",
       "      <th>사업화형태</th>\n",
       "      <th>연구수행주체</th>\n",
       "      <th>정부투자연구비합계</th>\n",
       "      <th>지원과제수</th>\n",
       "      <th>사업화성과건수합계</th>\n",
       "      <th>고용창출인원합계</th>\n",
       "      <th>당해년도매출액합계</th>\n",
       "    </tr>\n",
       "  </thead>\n",
       "  <tbody>\n",
       "    <tr>\n",
       "      <th>5060</th>\n",
       "      <td>EA</td>\n",
       "      <td>5061</td>\n",
       "      <td>EA99</td>\n",
       "      <td>경찰청</td>\n",
       "      <td>1기초연구</td>\n",
       "      <td>NaN</td>\n",
       "      <td>대학</td>\n",
       "      <td>40000000.0</td>\n",
       "      <td>1</td>\n",
       "      <td>0</td>\n",
       "      <td>0.0</td>\n",
       "      <td>0.0</td>\n",
       "    </tr>\n",
       "    <tr>\n",
       "      <th>12505</th>\n",
       "      <td>ED</td>\n",
       "      <td>12506</td>\n",
       "      <td>ED08</td>\n",
       "      <td>경찰청</td>\n",
       "      <td>1기초연구</td>\n",
       "      <td>NaN</td>\n",
       "      <td>대학</td>\n",
       "      <td>149000000.0</td>\n",
       "      <td>1</td>\n",
       "      <td>0</td>\n",
       "      <td>0.0</td>\n",
       "      <td>0.0</td>\n",
       "    </tr>\n",
       "    <tr>\n",
       "      <th>12540</th>\n",
       "      <td>ED</td>\n",
       "      <td>12541</td>\n",
       "      <td>ED08</td>\n",
       "      <td>경찰청</td>\n",
       "      <td>1기초연구</td>\n",
       "      <td>NaN</td>\n",
       "      <td>대학</td>\n",
       "      <td>227000000.0</td>\n",
       "      <td>1</td>\n",
       "      <td>0</td>\n",
       "      <td>0.0</td>\n",
       "      <td>0.0</td>\n",
       "    </tr>\n",
       "  </tbody>\n",
       "</table>\n",
       "</div>"
      ],
      "text/plain": [
       "      연구분야대분류     번호 연구분야중분류 사업부처 연구개발단계 사업화형태 연구수행주체    정부투자연구비합계  지원과제수  \\\n",
       "5060       EA   5061    EA99  경찰청  1기초연구   NaN     대학   40000000.0      1   \n",
       "12505      ED  12506    ED08  경찰청  1기초연구   NaN     대학  149000000.0      1   \n",
       "12540      ED  12541    ED08  경찰청  1기초연구   NaN     대학  227000000.0      1   \n",
       "\n",
       "       사업화성과건수합계  고용창출인원합계  당해년도매출액합계  \n",
       "5060           0       0.0        0.0  \n",
       "12505          0       0.0        0.0  \n",
       "12540          0       0.0        0.0  "
      ]
     },
     "execution_count": 15,
     "metadata": {},
     "output_type": "execute_result"
    }
   ],
   "source": [
    "df3 = df2.sort_values(by=['사업부처','연구개발단계'], ascending=[True,True])\n",
    "df3.head(3)"
   ]
  },
  {
   "cell_type": "markdown",
   "metadata": {},
   "source": [
    "## 그룹바이"
   ]
  },
  {
   "cell_type": "code",
   "execution_count": 16,
   "metadata": {},
   "outputs": [
    {
     "data": {
      "text/html": [
       "<div>\n",
       "<style scoped>\n",
       "    .dataframe tbody tr th:only-of-type {\n",
       "        vertical-align: middle;\n",
       "    }\n",
       "\n",
       "    .dataframe tbody tr th {\n",
       "        vertical-align: top;\n",
       "    }\n",
       "\n",
       "    .dataframe thead th {\n",
       "        text-align: right;\n",
       "    }\n",
       "</style>\n",
       "<table border=\"1\" class=\"dataframe\">\n",
       "  <thead>\n",
       "    <tr style=\"text-align: right;\">\n",
       "      <th></th>\n",
       "      <th></th>\n",
       "      <th>정부투자연구비합계</th>\n",
       "      <th>지원과제수</th>\n",
       "      <th>사업화성과건수합계</th>\n",
       "    </tr>\n",
       "    <tr>\n",
       "      <th>사업부처</th>\n",
       "      <th>연구개발단계</th>\n",
       "      <th></th>\n",
       "      <th></th>\n",
       "      <th></th>\n",
       "    </tr>\n",
       "  </thead>\n",
       "  <tbody>\n",
       "    <tr>\n",
       "      <th rowspan=\"4\" valign=\"top\">경찰청</th>\n",
       "      <th>1기초연구</th>\n",
       "      <td>8.141700e+09</td>\n",
       "      <td>28</td>\n",
       "      <td>0</td>\n",
       "    </tr>\n",
       "    <tr>\n",
       "      <th>2개발연구</th>\n",
       "      <td>1.872629e+10</td>\n",
       "      <td>65</td>\n",
       "      <td>0</td>\n",
       "    </tr>\n",
       "    <tr>\n",
       "      <th>3응용연구</th>\n",
       "      <td>8.165708e+09</td>\n",
       "      <td>28</td>\n",
       "      <td>0</td>\n",
       "    </tr>\n",
       "    <tr>\n",
       "      <th>4기타</th>\n",
       "      <td>1.898300e+09</td>\n",
       "      <td>11</td>\n",
       "      <td>0</td>\n",
       "    </tr>\n",
       "    <tr>\n",
       "      <th>과학기술정보통신부</th>\n",
       "      <th>1기초연구</th>\n",
       "      <td>1.763760e+13</td>\n",
       "      <td>69598</td>\n",
       "      <td>420</td>\n",
       "    </tr>\n",
       "    <tr>\n",
       "      <th>...</th>\n",
       "      <th>...</th>\n",
       "      <td>...</td>\n",
       "      <td>...</td>\n",
       "      <td>...</td>\n",
       "    </tr>\n",
       "    <tr>\n",
       "      <th>행정안전부</th>\n",
       "      <th>4기타</th>\n",
       "      <td>1.033285e+11</td>\n",
       "      <td>154</td>\n",
       "      <td>1</td>\n",
       "    </tr>\n",
       "    <tr>\n",
       "      <th rowspan=\"4\" valign=\"top\">환경부</th>\n",
       "      <th>1기초연구</th>\n",
       "      <td>7.040370e+11</td>\n",
       "      <td>4106</td>\n",
       "      <td>1864</td>\n",
       "    </tr>\n",
       "    <tr>\n",
       "      <th>2개발연구</th>\n",
       "      <td>5.858003e+11</td>\n",
       "      <td>4424</td>\n",
       "      <td>3523</td>\n",
       "    </tr>\n",
       "    <tr>\n",
       "      <th>3응용연구</th>\n",
       "      <td>3.079538e+11</td>\n",
       "      <td>1972</td>\n",
       "      <td>1181</td>\n",
       "    </tr>\n",
       "    <tr>\n",
       "      <th>4기타</th>\n",
       "      <td>4.047477e+11</td>\n",
       "      <td>723</td>\n",
       "      <td>182</td>\n",
       "    </tr>\n",
       "  </tbody>\n",
       "</table>\n",
       "<p>98 rows × 3 columns</p>\n",
       "</div>"
      ],
      "text/plain": [
       "                     정부투자연구비합계  지원과제수  사업화성과건수합계\n",
       "사업부처      연구개발단계                                \n",
       "경찰청       1기초연구   8.141700e+09     28          0\n",
       "          2개발연구   1.872629e+10     65          0\n",
       "          3응용연구   8.165708e+09     28          0\n",
       "          4기타     1.898300e+09     11          0\n",
       "과학기술정보통신부 1기초연구   1.763760e+13  69598        420\n",
       "...                        ...    ...        ...\n",
       "행정안전부     4기타     1.033285e+11    154          1\n",
       "환경부       1기초연구   7.040370e+11   4106       1864\n",
       "          2개발연구   5.858003e+11   4424       3523\n",
       "          3응용연구   3.079538e+11   1972       1181\n",
       "          4기타     4.047477e+11    723        182\n",
       "\n",
       "[98 rows x 3 columns]"
      ]
     },
     "execution_count": 16,
     "metadata": {},
     "output_type": "execute_result"
    }
   ],
   "source": [
    "df4=df3.groupby(['사업부처','연구개발단계']).sum()[['정부투자연구비합계','지원과제수','사업화성과건수합계']]\n",
    "#df4.head(3)\n",
    "# sum(), count(), mean(), std(), \n",
    "df4"
   ]
  },
  {
   "cell_type": "code",
   "execution_count": 17,
   "metadata": {},
   "outputs": [
    {
     "data": {
      "text/plain": [
       "MultiIndex([(      '경찰청', '1기초연구'),\n",
       "            (      '경찰청', '2개발연구'),\n",
       "            (      '경찰청', '3응용연구'),\n",
       "            (      '경찰청',   '4기타'),\n",
       "            ('과학기술정보통신부', '1기초연구'),\n",
       "            ('과학기술정보통신부', '2개발연구'),\n",
       "            ('과학기술정보통신부', '3응용연구'),\n",
       "            ('과학기술정보통신부',   '4기타'),\n",
       "            (      '교육부', '1기초연구'),\n",
       "            (      '교육부', '2개발연구'),\n",
       "            (      '교육부', '3응용연구'),\n",
       "            (      '교육부',   '4기타'),\n",
       "            (      '국방부', '2개발연구'),\n",
       "            (      '국방부', '3응용연구'),\n",
       "            (      '국방부',   '4기타'),\n",
       "            (    '국토교통부', '1기초연구'),\n",
       "            (    '국토교통부', '2개발연구'),\n",
       "            (    '국토교통부', '3응용연구'),\n",
       "            (    '국토교통부',   '4기타'),\n",
       "            (      '기상청', '1기초연구'),\n",
       "            (      '기상청', '2개발연구'),\n",
       "            (      '기상청', '3응용연구'),\n",
       "            (      '기상청',   '4기타'),\n",
       "            (    '기획재정부', '1기초연구'),\n",
       "            (    '기획재정부',   '4기타'),\n",
       "            (  '농림축산식품부', '1기초연구'),\n",
       "            (  '농림축산식품부', '2개발연구'),\n",
       "            (  '농림축산식품부', '3응용연구'),\n",
       "            (  '농림축산식품부',   '4기타'),\n",
       "            (    '농촌진흥청', '1기초연구'),\n",
       "            (    '농촌진흥청', '2개발연구'),\n",
       "            (    '농촌진흥청', '3응용연구'),\n",
       "            (    '농촌진흥청',   '4기타'),\n",
       "            (     '문화재청', '1기초연구'),\n",
       "            (     '문화재청', '2개발연구'),\n",
       "            (     '문화재청', '3응용연구'),\n",
       "            (     '문화재청',   '4기타'),\n",
       "            (  '문화체육관광부', '1기초연구'),\n",
       "            (  '문화체육관광부', '2개발연구'),\n",
       "            (  '문화체육관광부', '3응용연구'),\n",
       "            (  '문화체육관광부',   '4기타'),\n",
       "            (    '방위사업청', '1기초연구'),\n",
       "            (    '방위사업청', '2개발연구'),\n",
       "            (    '방위사업청', '3응용연구'),\n",
       "            (    '방위사업청',   '4기타'),\n",
       "            (    '범부처사업', '1기초연구'),\n",
       "            (    '범부처사업', '2개발연구'),\n",
       "            (    '범부처사업', '3응용연구'),\n",
       "            (    '범부처사업',   '4기타'),\n",
       "            (      '법무부', '1기초연구'),\n",
       "            (      '법무부', '2개발연구'),\n",
       "            (    '보건복지부', '1기초연구'),\n",
       "            (    '보건복지부', '2개발연구'),\n",
       "            (    '보건복지부', '3응용연구'),\n",
       "            (    '보건복지부',   '4기타'),\n",
       "            (      '산림청', '1기초연구'),\n",
       "            (      '산림청', '2개발연구'),\n",
       "            (      '산림청', '3응용연구'),\n",
       "            (      '산림청',   '4기타'),\n",
       "            (  '산업통상자원부', '1기초연구'),\n",
       "            (  '산업통상자원부', '2개발연구'),\n",
       "            (  '산업통상자원부', '3응용연구'),\n",
       "            (  '산업통상자원부',   '4기타'),\n",
       "            (      '소방청', '1기초연구'),\n",
       "            (      '소방청', '2개발연구'),\n",
       "            (      '소방청', '3응용연구'),\n",
       "            (      '소방청',   '4기타'),\n",
       "            ( '식품의약품안전처', '1기초연구'),\n",
       "            ( '식품의약품안전처', '2개발연구'),\n",
       "            ( '식품의약품안전처', '3응용연구'),\n",
       "            ( '식품의약품안전처',   '4기타'),\n",
       "            ( '원자력안전위원회', '1기초연구'),\n",
       "            ( '원자력안전위원회', '2개발연구'),\n",
       "            ( '원자력안전위원회', '3응용연구'),\n",
       "            ( '원자력안전위원회',   '4기타'),\n",
       "            (  '중소벤처기업부', '2개발연구'),\n",
       "            (  '중소벤처기업부', '3응용연구'),\n",
       "            (  '중소벤처기업부',   '4기타'),\n",
       "            (      '특허청', '1기초연구'),\n",
       "            (      '특허청', '2개발연구'),\n",
       "            (      '특허청', '3응용연구'),\n",
       "            (      '특허청',   '4기타'),\n",
       "            (    '해양경찰청', '1기초연구'),\n",
       "            (    '해양경찰청', '2개발연구'),\n",
       "            (    '해양경찰청', '3응용연구'),\n",
       "            (    '해양경찰청',   '4기타'),\n",
       "            (    '해양수산부', '1기초연구'),\n",
       "            (    '해양수산부', '2개발연구'),\n",
       "            (    '해양수산부', '3응용연구'),\n",
       "            (    '해양수산부',   '4기타'),\n",
       "            (    '행정안전부', '1기초연구'),\n",
       "            (    '행정안전부', '2개발연구'),\n",
       "            (    '행정안전부', '3응용연구'),\n",
       "            (    '행정안전부',   '4기타'),\n",
       "            (      '환경부', '1기초연구'),\n",
       "            (      '환경부', '2개발연구'),\n",
       "            (      '환경부', '3응용연구'),\n",
       "            (      '환경부',   '4기타')],\n",
       "           names=['사업부처', '연구개발단계'])"
      ]
     },
     "execution_count": 17,
     "metadata": {},
     "output_type": "execute_result"
    }
   ],
   "source": [
    "df4.index"
   ]
  },
  {
   "cell_type": "markdown",
   "metadata": {},
   "source": [
    "## 테스트"
   ]
  },
  {
   "cell_type": "code",
   "execution_count": 18,
   "metadata": {},
   "outputs": [
    {
     "data": {
      "text/plain": [
       "array([False, False, False, False, False, False, False, False, False,\n",
       "       False, False, False, False, False, False, False, False, False,\n",
       "       False, False, False, False, False, False, False, False, False,\n",
       "       False, False, False, False, False, False, False, False, False,\n",
       "       False, False, False, False, False, False, False, False, False,\n",
       "       False, False, False, False, False, False, False, False, False,\n",
       "       False, False, False, False, False, False, False, False, False,\n",
       "       False, False, False, False, False, False, False, False, False,\n",
       "       False, False, False, False, False, False, False, False, False,\n",
       "       False, False, False, False, False, False, False, False, False,\n",
       "       False, False, False, False, False, False, False, False])"
      ]
     },
     "execution_count": 18,
     "metadata": {},
     "output_type": "execute_result"
    }
   ],
   "source": [
    "condition1 = (df4.index == '과학기술정보통신부')\n",
    "condition1"
   ]
  },
  {
   "cell_type": "code",
   "execution_count": 19,
   "metadata": {},
   "outputs": [
    {
     "data": {
      "text/html": [
       "<div>\n",
       "<style scoped>\n",
       "    .dataframe tbody tr th:only-of-type {\n",
       "        vertical-align: middle;\n",
       "    }\n",
       "\n",
       "    .dataframe tbody tr th {\n",
       "        vertical-align: top;\n",
       "    }\n",
       "\n",
       "    .dataframe thead th {\n",
       "        text-align: right;\n",
       "    }\n",
       "</style>\n",
       "<table border=\"1\" class=\"dataframe\">\n",
       "  <thead>\n",
       "    <tr style=\"text-align: right;\">\n",
       "      <th></th>\n",
       "      <th></th>\n",
       "      <th>정부투자연구비합계</th>\n",
       "      <th>지원과제수</th>\n",
       "      <th>사업화성과건수합계</th>\n",
       "    </tr>\n",
       "    <tr>\n",
       "      <th>사업부처</th>\n",
       "      <th>연구개발단계</th>\n",
       "      <th></th>\n",
       "      <th></th>\n",
       "      <th></th>\n",
       "    </tr>\n",
       "  </thead>\n",
       "  <tbody>\n",
       "  </tbody>\n",
       "</table>\n",
       "</div>"
      ],
      "text/plain": [
       "Empty DataFrame\n",
       "Columns: [정부투자연구비합계, 지원과제수, 사업화성과건수합계]\n",
       "Index: []"
      ]
     },
     "execution_count": 19,
     "metadata": {},
     "output_type": "execute_result"
    }
   ],
   "source": [
    "df_filter1 = df4[df4.index == '과학기술정보통신부']\n",
    "df_filter1"
   ]
  },
  {
   "cell_type": "code",
   "execution_count": 20,
   "metadata": {},
   "outputs": [
    {
     "name": "stdout",
     "output_type": "stream",
     "text": [
      "NanumGothicOTF\n"
     ]
    }
   ],
   "source": [
    "%matplotlib inline  \n",
    "%config InlineBackend.figure_format = 'retina' # 맥용 레티나 화면 \n",
    "\n",
    "import matplotlib.font_manager as fm #한글 출력\n",
    "import matplotlib\n",
    "\n",
    "font8  = fm.FontProperties(fname = '/Library/Fonts/NanumGothic.otf', size=8)\n",
    "print(font8.get_name())\n",
    "matplotlib.rc('font', family=font8.get_name())"
   ]
  },
  {
   "cell_type": "code",
   "execution_count": 21,
   "metadata": {},
   "outputs": [
    {
     "ename": "IndexError",
     "evalue": "list index out of range",
     "output_type": "error",
     "traceback": [
      "\u001b[0;31m---------------------------------------------------------------------------\u001b[0m",
      "\u001b[0;31mIndexError\u001b[0m                                Traceback (most recent call last)",
      "\u001b[0;32m<ipython-input-21-fd5667fb0c65>\u001b[0m in \u001b[0;36m<module>\u001b[0;34m\u001b[0m\n\u001b[0;32m----> 1\u001b[0;31m \u001b[0mdf_filter1\u001b[0m\u001b[0;34m[\u001b[0m\u001b[0;34m[\u001b[0m\u001b[0;34m'지원과제수'\u001b[0m\u001b[0;34m,\u001b[0m\u001b[0;34m'사업화성과건수합계'\u001b[0m\u001b[0;34m]\u001b[0m\u001b[0;34m]\u001b[0m\u001b[0;34m.\u001b[0m\u001b[0mplot\u001b[0m\u001b[0;34m(\u001b[0m\u001b[0mkind\u001b[0m\u001b[0;34m=\u001b[0m\u001b[0;34m'bar'\u001b[0m\u001b[0;34m,\u001b[0m \u001b[0mtitle\u001b[0m\u001b[0;34m=\u001b[0m\u001b[0;34m'Sample'\u001b[0m\u001b[0;34m,\u001b[0m \u001b[0mfigsize\u001b[0m\u001b[0;34m=\u001b[0m\u001b[0;34m(\u001b[0m\u001b[0;36m8\u001b[0m\u001b[0;34m,\u001b[0m\u001b[0;36m4\u001b[0m\u001b[0;34m)\u001b[0m\u001b[0;34m)\u001b[0m\u001b[0;34m\u001b[0m\u001b[0;34m\u001b[0m\u001b[0m\n\u001b[0m",
      "\u001b[0;32m~/anaconda3/lib/python3.7/site-packages/pandas/plotting/_core.py\u001b[0m in \u001b[0;36m__call__\u001b[0;34m(self, *args, **kwargs)\u001b[0m\n\u001b[1;32m    845\u001b[0m                     \u001b[0mdata\u001b[0m\u001b[0;34m.\u001b[0m\u001b[0mcolumns\u001b[0m \u001b[0;34m=\u001b[0m \u001b[0mlabel_name\u001b[0m\u001b[0;34m\u001b[0m\u001b[0;34m\u001b[0m\u001b[0m\n\u001b[1;32m    846\u001b[0m \u001b[0;34m\u001b[0m\u001b[0m\n\u001b[0;32m--> 847\u001b[0;31m         \u001b[0;32mreturn\u001b[0m \u001b[0mplot_backend\u001b[0m\u001b[0;34m.\u001b[0m\u001b[0mplot\u001b[0m\u001b[0;34m(\u001b[0m\u001b[0mdata\u001b[0m\u001b[0;34m,\u001b[0m \u001b[0mkind\u001b[0m\u001b[0;34m=\u001b[0m\u001b[0mkind\u001b[0m\u001b[0;34m,\u001b[0m \u001b[0;34m**\u001b[0m\u001b[0mkwargs\u001b[0m\u001b[0;34m)\u001b[0m\u001b[0;34m\u001b[0m\u001b[0;34m\u001b[0m\u001b[0m\n\u001b[0m\u001b[1;32m    848\u001b[0m \u001b[0;34m\u001b[0m\u001b[0m\n\u001b[1;32m    849\u001b[0m     \u001b[0m__call__\u001b[0m\u001b[0;34m.\u001b[0m\u001b[0m__doc__\u001b[0m \u001b[0;34m=\u001b[0m \u001b[0m__doc__\u001b[0m\u001b[0;34m\u001b[0m\u001b[0;34m\u001b[0m\u001b[0m\n",
      "\u001b[0;32m~/anaconda3/lib/python3.7/site-packages/pandas/plotting/_matplotlib/__init__.py\u001b[0m in \u001b[0;36mplot\u001b[0;34m(data, kind, **kwargs)\u001b[0m\n\u001b[1;32m     59\u001b[0m             \u001b[0mkwargs\u001b[0m\u001b[0;34m[\u001b[0m\u001b[0;34m\"ax\"\u001b[0m\u001b[0;34m]\u001b[0m \u001b[0;34m=\u001b[0m \u001b[0mgetattr\u001b[0m\u001b[0;34m(\u001b[0m\u001b[0max\u001b[0m\u001b[0;34m,\u001b[0m \u001b[0;34m\"left_ax\"\u001b[0m\u001b[0;34m,\u001b[0m \u001b[0max\u001b[0m\u001b[0;34m)\u001b[0m\u001b[0;34m\u001b[0m\u001b[0;34m\u001b[0m\u001b[0m\n\u001b[1;32m     60\u001b[0m     \u001b[0mplot_obj\u001b[0m \u001b[0;34m=\u001b[0m \u001b[0mPLOT_CLASSES\u001b[0m\u001b[0;34m[\u001b[0m\u001b[0mkind\u001b[0m\u001b[0;34m]\u001b[0m\u001b[0;34m(\u001b[0m\u001b[0mdata\u001b[0m\u001b[0;34m,\u001b[0m \u001b[0;34m**\u001b[0m\u001b[0mkwargs\u001b[0m\u001b[0;34m)\u001b[0m\u001b[0;34m\u001b[0m\u001b[0;34m\u001b[0m\u001b[0m\n\u001b[0;32m---> 61\u001b[0;31m     \u001b[0mplot_obj\u001b[0m\u001b[0;34m.\u001b[0m\u001b[0mgenerate\u001b[0m\u001b[0;34m(\u001b[0m\u001b[0;34m)\u001b[0m\u001b[0;34m\u001b[0m\u001b[0;34m\u001b[0m\u001b[0m\n\u001b[0m\u001b[1;32m     62\u001b[0m     \u001b[0mplot_obj\u001b[0m\u001b[0;34m.\u001b[0m\u001b[0mdraw\u001b[0m\u001b[0;34m(\u001b[0m\u001b[0;34m)\u001b[0m\u001b[0;34m\u001b[0m\u001b[0;34m\u001b[0m\u001b[0m\n\u001b[1;32m     63\u001b[0m     \u001b[0;32mreturn\u001b[0m \u001b[0mplot_obj\u001b[0m\u001b[0;34m.\u001b[0m\u001b[0mresult\u001b[0m\u001b[0;34m\u001b[0m\u001b[0;34m\u001b[0m\u001b[0m\n",
      "\u001b[0;32m~/anaconda3/lib/python3.7/site-packages/pandas/plotting/_matplotlib/core.py\u001b[0m in \u001b[0;36mgenerate\u001b[0;34m(self)\u001b[0m\n\u001b[1;32m    263\u001b[0m         \u001b[0mself\u001b[0m\u001b[0;34m.\u001b[0m\u001b[0m_make_plot\u001b[0m\u001b[0;34m(\u001b[0m\u001b[0;34m)\u001b[0m\u001b[0;34m\u001b[0m\u001b[0;34m\u001b[0m\u001b[0m\n\u001b[1;32m    264\u001b[0m         \u001b[0mself\u001b[0m\u001b[0;34m.\u001b[0m\u001b[0m_add_table\u001b[0m\u001b[0;34m(\u001b[0m\u001b[0;34m)\u001b[0m\u001b[0;34m\u001b[0m\u001b[0;34m\u001b[0m\u001b[0m\n\u001b[0;32m--> 265\u001b[0;31m         \u001b[0mself\u001b[0m\u001b[0;34m.\u001b[0m\u001b[0m_make_legend\u001b[0m\u001b[0;34m(\u001b[0m\u001b[0;34m)\u001b[0m\u001b[0;34m\u001b[0m\u001b[0;34m\u001b[0m\u001b[0m\n\u001b[0m\u001b[1;32m    266\u001b[0m         \u001b[0mself\u001b[0m\u001b[0;34m.\u001b[0m\u001b[0m_adorn_subplots\u001b[0m\u001b[0;34m(\u001b[0m\u001b[0;34m)\u001b[0m\u001b[0;34m\u001b[0m\u001b[0;34m\u001b[0m\u001b[0m\n\u001b[1;32m    267\u001b[0m \u001b[0;34m\u001b[0m\u001b[0m\n",
      "\u001b[0;32m~/anaconda3/lib/python3.7/site-packages/pandas/plotting/_matplotlib/core.py\u001b[0m in \u001b[0;36m_make_legend\u001b[0;34m(self)\u001b[0m\n\u001b[1;32m    570\u001b[0m \u001b[0;34m\u001b[0m\u001b[0m\n\u001b[1;32m    571\u001b[0m             \u001b[0;32mif\u001b[0m \u001b[0mlen\u001b[0m\u001b[0;34m(\u001b[0m\u001b[0mhandles\u001b[0m\u001b[0;34m)\u001b[0m \u001b[0;34m>\u001b[0m \u001b[0;36m0\u001b[0m\u001b[0;34m:\u001b[0m\u001b[0;34m\u001b[0m\u001b[0;34m\u001b[0m\u001b[0m\n\u001b[0;32m--> 572\u001b[0;31m                 \u001b[0max\u001b[0m\u001b[0;34m.\u001b[0m\u001b[0mlegend\u001b[0m\u001b[0;34m(\u001b[0m\u001b[0mhandles\u001b[0m\u001b[0;34m,\u001b[0m \u001b[0mlabels\u001b[0m\u001b[0;34m,\u001b[0m \u001b[0mloc\u001b[0m\u001b[0;34m=\u001b[0m\u001b[0;34m\"best\"\u001b[0m\u001b[0;34m,\u001b[0m \u001b[0mtitle\u001b[0m\u001b[0;34m=\u001b[0m\u001b[0mtitle\u001b[0m\u001b[0;34m)\u001b[0m\u001b[0;34m\u001b[0m\u001b[0;34m\u001b[0m\u001b[0m\n\u001b[0m\u001b[1;32m    573\u001b[0m \u001b[0;34m\u001b[0m\u001b[0m\n\u001b[1;32m    574\u001b[0m         \u001b[0;32melif\u001b[0m \u001b[0mself\u001b[0m\u001b[0;34m.\u001b[0m\u001b[0msubplots\u001b[0m \u001b[0;32mand\u001b[0m \u001b[0mself\u001b[0m\u001b[0;34m.\u001b[0m\u001b[0mlegend\u001b[0m\u001b[0;34m:\u001b[0m\u001b[0;34m\u001b[0m\u001b[0;34m\u001b[0m\u001b[0m\n",
      "\u001b[0;32m~/anaconda3/lib/python3.7/site-packages/matplotlib/axes/_axes.py\u001b[0m in \u001b[0;36mlegend\u001b[0;34m(self, *args, **kwargs)\u001b[0m\n\u001b[1;32m    404\u001b[0m         \u001b[0;32mif\u001b[0m \u001b[0mlen\u001b[0m\u001b[0;34m(\u001b[0m\u001b[0mextra_args\u001b[0m\u001b[0;34m)\u001b[0m\u001b[0;34m:\u001b[0m\u001b[0;34m\u001b[0m\u001b[0;34m\u001b[0m\u001b[0m\n\u001b[1;32m    405\u001b[0m             \u001b[0;32mraise\u001b[0m \u001b[0mTypeError\u001b[0m\u001b[0;34m(\u001b[0m\u001b[0;34m'legend only accepts two non-keyword arguments'\u001b[0m\u001b[0;34m)\u001b[0m\u001b[0;34m\u001b[0m\u001b[0;34m\u001b[0m\u001b[0m\n\u001b[0;32m--> 406\u001b[0;31m         \u001b[0mself\u001b[0m\u001b[0;34m.\u001b[0m\u001b[0mlegend_\u001b[0m \u001b[0;34m=\u001b[0m \u001b[0mmlegend\u001b[0m\u001b[0;34m.\u001b[0m\u001b[0mLegend\u001b[0m\u001b[0;34m(\u001b[0m\u001b[0mself\u001b[0m\u001b[0;34m,\u001b[0m \u001b[0mhandles\u001b[0m\u001b[0;34m,\u001b[0m \u001b[0mlabels\u001b[0m\u001b[0;34m,\u001b[0m \u001b[0;34m**\u001b[0m\u001b[0mkwargs\u001b[0m\u001b[0;34m)\u001b[0m\u001b[0;34m\u001b[0m\u001b[0;34m\u001b[0m\u001b[0m\n\u001b[0m\u001b[1;32m    407\u001b[0m         \u001b[0mself\u001b[0m\u001b[0;34m.\u001b[0m\u001b[0mlegend_\u001b[0m\u001b[0;34m.\u001b[0m\u001b[0m_remove_method\u001b[0m \u001b[0;34m=\u001b[0m \u001b[0mself\u001b[0m\u001b[0;34m.\u001b[0m\u001b[0m_remove_legend\u001b[0m\u001b[0;34m\u001b[0m\u001b[0;34m\u001b[0m\u001b[0m\n\u001b[1;32m    408\u001b[0m         \u001b[0;32mreturn\u001b[0m \u001b[0mself\u001b[0m\u001b[0;34m.\u001b[0m\u001b[0mlegend_\u001b[0m\u001b[0;34m\u001b[0m\u001b[0;34m\u001b[0m\u001b[0m\n",
      "\u001b[0;32m~/anaconda3/lib/python3.7/site-packages/matplotlib/legend.py\u001b[0m in \u001b[0;36m__init__\u001b[0;34m(self, parent, handles, labels, loc, numpoints, markerscale, markerfirst, scatterpoints, scatteryoffsets, prop, fontsize, borderpad, labelspacing, handlelength, handleheight, handletextpad, borderaxespad, columnspacing, ncol, mode, fancybox, shadow, title, title_fontsize, framealpha, edgecolor, facecolor, bbox_to_anchor, bbox_transform, frameon, handler_map)\u001b[0m\n\u001b[1;32m    573\u001b[0m \u001b[0;34m\u001b[0m\u001b[0m\n\u001b[1;32m    574\u001b[0m         \u001b[0;31m# init with null renderer\u001b[0m\u001b[0;34m\u001b[0m\u001b[0;34m\u001b[0m\u001b[0;34m\u001b[0m\u001b[0m\n\u001b[0;32m--> 575\u001b[0;31m         \u001b[0mself\u001b[0m\u001b[0;34m.\u001b[0m\u001b[0m_init_legend_box\u001b[0m\u001b[0;34m(\u001b[0m\u001b[0mhandles\u001b[0m\u001b[0;34m,\u001b[0m \u001b[0mlabels\u001b[0m\u001b[0;34m,\u001b[0m \u001b[0mmarkerfirst\u001b[0m\u001b[0;34m)\u001b[0m\u001b[0;34m\u001b[0m\u001b[0;34m\u001b[0m\u001b[0m\n\u001b[0m\u001b[1;32m    576\u001b[0m \u001b[0;34m\u001b[0m\u001b[0m\n\u001b[1;32m    577\u001b[0m         \u001b[0;31m# If shadow is activated use framealpha if not\u001b[0m\u001b[0;34m\u001b[0m\u001b[0;34m\u001b[0m\u001b[0;34m\u001b[0m\u001b[0m\n",
      "\u001b[0;32m~/anaconda3/lib/python3.7/site-packages/matplotlib/legend.py\u001b[0m in \u001b[0;36m_init_legend_box\u001b[0;34m(self, handles, labels, markerfirst)\u001b[0m\n\u001b[1;32m    831\u001b[0m                 \u001b[0;31m# original artist/handle.\u001b[0m\u001b[0;34m\u001b[0m\u001b[0;34m\u001b[0m\u001b[0;34m\u001b[0m\u001b[0m\n\u001b[1;32m    832\u001b[0m                 handle_list.append(handler.legend_artist(self, orig_handle,\n\u001b[0;32m--> 833\u001b[0;31m                                                          fontsize, handlebox))\n\u001b[0m\u001b[1;32m    834\u001b[0m                 \u001b[0mhandles_and_labels\u001b[0m\u001b[0;34m.\u001b[0m\u001b[0mappend\u001b[0m\u001b[0;34m(\u001b[0m\u001b[0;34m(\u001b[0m\u001b[0mhandlebox\u001b[0m\u001b[0;34m,\u001b[0m \u001b[0mtextbox\u001b[0m\u001b[0;34m)\u001b[0m\u001b[0;34m)\u001b[0m\u001b[0;34m\u001b[0m\u001b[0;34m\u001b[0m\u001b[0m\n\u001b[1;32m    835\u001b[0m \u001b[0;34m\u001b[0m\u001b[0m\n",
      "\u001b[0;32m~/anaconda3/lib/python3.7/site-packages/matplotlib/legend_handler.py\u001b[0m in \u001b[0;36mlegend_artist\u001b[0;34m(self, legend, orig_handle, fontsize, handlebox)\u001b[0m\n\u001b[1;32m    113\u001b[0m         artists = self.create_artists(legend, orig_handle,\n\u001b[1;32m    114\u001b[0m                                       \u001b[0mxdescent\u001b[0m\u001b[0;34m,\u001b[0m \u001b[0mydescent\u001b[0m\u001b[0;34m,\u001b[0m \u001b[0mwidth\u001b[0m\u001b[0;34m,\u001b[0m \u001b[0mheight\u001b[0m\u001b[0;34m,\u001b[0m\u001b[0;34m\u001b[0m\u001b[0;34m\u001b[0m\u001b[0m\n\u001b[0;32m--> 115\u001b[0;31m                                       fontsize, handlebox.get_transform())\n\u001b[0m\u001b[1;32m    116\u001b[0m \u001b[0;34m\u001b[0m\u001b[0m\n\u001b[1;32m    117\u001b[0m         \u001b[0;31m# create_artists will return a list of artists.\u001b[0m\u001b[0;34m\u001b[0m\u001b[0;34m\u001b[0m\u001b[0;34m\u001b[0m\u001b[0m\n",
      "\u001b[0;32m~/anaconda3/lib/python3.7/site-packages/matplotlib/legend_handler.py\u001b[0m in \u001b[0;36mcreate_artists\u001b[0;34m(self, legend, orig_handle, xdescent, ydescent, width, height, fontsize, trans)\u001b[0m\n\u001b[1;32m    297\u001b[0m         p = self._create_patch(legend, orig_handle,\n\u001b[1;32m    298\u001b[0m                                xdescent, ydescent, width, height, fontsize)\n\u001b[0;32m--> 299\u001b[0;31m         \u001b[0mself\u001b[0m\u001b[0;34m.\u001b[0m\u001b[0mupdate_prop\u001b[0m\u001b[0;34m(\u001b[0m\u001b[0mp\u001b[0m\u001b[0;34m,\u001b[0m \u001b[0morig_handle\u001b[0m\u001b[0;34m,\u001b[0m \u001b[0mlegend\u001b[0m\u001b[0;34m)\u001b[0m\u001b[0;34m\u001b[0m\u001b[0;34m\u001b[0m\u001b[0m\n\u001b[0m\u001b[1;32m    300\u001b[0m         \u001b[0mp\u001b[0m\u001b[0;34m.\u001b[0m\u001b[0mset_transform\u001b[0m\u001b[0;34m(\u001b[0m\u001b[0mtrans\u001b[0m\u001b[0;34m)\u001b[0m\u001b[0;34m\u001b[0m\u001b[0;34m\u001b[0m\u001b[0m\n\u001b[1;32m    301\u001b[0m         \u001b[0;32mreturn\u001b[0m \u001b[0;34m[\u001b[0m\u001b[0mp\u001b[0m\u001b[0;34m]\u001b[0m\u001b[0;34m\u001b[0m\u001b[0;34m\u001b[0m\u001b[0m\n",
      "\u001b[0;32m~/anaconda3/lib/python3.7/site-packages/matplotlib/legend_handler.py\u001b[0m in \u001b[0;36mupdate_prop\u001b[0;34m(self, legend_handle, orig_handle, legend)\u001b[0m\n\u001b[1;32m     70\u001b[0m     \u001b[0;32mdef\u001b[0m \u001b[0mupdate_prop\u001b[0m\u001b[0;34m(\u001b[0m\u001b[0mself\u001b[0m\u001b[0;34m,\u001b[0m \u001b[0mlegend_handle\u001b[0m\u001b[0;34m,\u001b[0m \u001b[0morig_handle\u001b[0m\u001b[0;34m,\u001b[0m \u001b[0mlegend\u001b[0m\u001b[0;34m)\u001b[0m\u001b[0;34m:\u001b[0m\u001b[0;34m\u001b[0m\u001b[0;34m\u001b[0m\u001b[0m\n\u001b[1;32m     71\u001b[0m \u001b[0;34m\u001b[0m\u001b[0m\n\u001b[0;32m---> 72\u001b[0;31m         \u001b[0mself\u001b[0m\u001b[0;34m.\u001b[0m\u001b[0m_update_prop\u001b[0m\u001b[0;34m(\u001b[0m\u001b[0mlegend_handle\u001b[0m\u001b[0;34m,\u001b[0m \u001b[0morig_handle\u001b[0m\u001b[0;34m)\u001b[0m\u001b[0;34m\u001b[0m\u001b[0;34m\u001b[0m\u001b[0m\n\u001b[0m\u001b[1;32m     73\u001b[0m \u001b[0;34m\u001b[0m\u001b[0m\n\u001b[1;32m     74\u001b[0m         \u001b[0mlegend\u001b[0m\u001b[0;34m.\u001b[0m\u001b[0m_set_artist_props\u001b[0m\u001b[0;34m(\u001b[0m\u001b[0mlegend_handle\u001b[0m\u001b[0;34m)\u001b[0m\u001b[0;34m\u001b[0m\u001b[0;34m\u001b[0m\u001b[0m\n",
      "\u001b[0;32m~/anaconda3/lib/python3.7/site-packages/matplotlib/legend_handler.py\u001b[0m in \u001b[0;36m_update_prop\u001b[0;34m(self, legend_handle, orig_handle)\u001b[0m\n\u001b[1;32m     63\u001b[0m             \u001b[0mself\u001b[0m\u001b[0;34m.\u001b[0m\u001b[0m_default_update_prop\u001b[0m\u001b[0;34m(\u001b[0m\u001b[0mlegend_handle\u001b[0m\u001b[0;34m,\u001b[0m \u001b[0morig_handle\u001b[0m\u001b[0;34m)\u001b[0m\u001b[0;34m\u001b[0m\u001b[0;34m\u001b[0m\u001b[0m\n\u001b[1;32m     64\u001b[0m         \u001b[0;32melse\u001b[0m\u001b[0;34m:\u001b[0m\u001b[0;34m\u001b[0m\u001b[0;34m\u001b[0m\u001b[0m\n\u001b[0;32m---> 65\u001b[0;31m             \u001b[0mself\u001b[0m\u001b[0;34m.\u001b[0m\u001b[0m_update_prop_func\u001b[0m\u001b[0;34m(\u001b[0m\u001b[0mlegend_handle\u001b[0m\u001b[0;34m,\u001b[0m \u001b[0morig_handle\u001b[0m\u001b[0;34m)\u001b[0m\u001b[0;34m\u001b[0m\u001b[0;34m\u001b[0m\u001b[0m\n\u001b[0m\u001b[1;32m     66\u001b[0m \u001b[0;34m\u001b[0m\u001b[0m\n\u001b[1;32m     67\u001b[0m     \u001b[0;32mdef\u001b[0m \u001b[0m_default_update_prop\u001b[0m\u001b[0;34m(\u001b[0m\u001b[0mself\u001b[0m\u001b[0;34m,\u001b[0m \u001b[0mlegend_handle\u001b[0m\u001b[0;34m,\u001b[0m \u001b[0morig_handle\u001b[0m\u001b[0;34m)\u001b[0m\u001b[0;34m:\u001b[0m\u001b[0;34m\u001b[0m\u001b[0;34m\u001b[0m\u001b[0m\n",
      "\u001b[0;32m~/anaconda3/lib/python3.7/site-packages/matplotlib/legend_handler.py\u001b[0m in \u001b[0;36mupdate_from_first_child\u001b[0;34m(tgt, src)\u001b[0m\n\u001b[1;32m     36\u001b[0m \u001b[0;34m\u001b[0m\u001b[0m\n\u001b[1;32m     37\u001b[0m \u001b[0;32mdef\u001b[0m \u001b[0mupdate_from_first_child\u001b[0m\u001b[0;34m(\u001b[0m\u001b[0mtgt\u001b[0m\u001b[0;34m,\u001b[0m \u001b[0msrc\u001b[0m\u001b[0;34m)\u001b[0m\u001b[0;34m:\u001b[0m\u001b[0;34m\u001b[0m\u001b[0;34m\u001b[0m\u001b[0m\n\u001b[0;32m---> 38\u001b[0;31m     \u001b[0mtgt\u001b[0m\u001b[0;34m.\u001b[0m\u001b[0mupdate_from\u001b[0m\u001b[0;34m(\u001b[0m\u001b[0msrc\u001b[0m\u001b[0;34m.\u001b[0m\u001b[0mget_children\u001b[0m\u001b[0;34m(\u001b[0m\u001b[0;34m)\u001b[0m\u001b[0;34m[\u001b[0m\u001b[0;36m0\u001b[0m\u001b[0;34m]\u001b[0m\u001b[0;34m)\u001b[0m\u001b[0;34m\u001b[0m\u001b[0;34m\u001b[0m\u001b[0m\n\u001b[0m\u001b[1;32m     39\u001b[0m \u001b[0;34m\u001b[0m\u001b[0m\n\u001b[1;32m     40\u001b[0m \u001b[0;34m\u001b[0m\u001b[0m\n",
      "\u001b[0;31mIndexError\u001b[0m: list index out of range"
     ]
    },
    {
     "data": {
      "image/png": "[encoded data removed]",
      "text/plain": [
       "<Figure size 576x288 with 1 Axes>"
      ]
     },
     "metadata": {
      "image/png": {
       "height": 248,
       "width": 482
      },
      "needs_background": "light"
     },
     "output_type": "display_data"
    }
   ],
   "source": [
    "df_filter1[['지원과제수','사업화성과건수합계']].plot(kind='bar', title='Sample', figsize=(8,4))"
   ]
  },
  {
   "cell_type": "code",
   "execution_count": null,
   "metadata": {
    "collapsed": true,
    "jupyter": {
     "outputs_hidden": true
    }
   },
   "outputs": [],
   "source": []
  }
 ],
 "metadata": {
  "kernelspec": {
   "display_name": "Python 3",
   "language": "python",
   "name": "python3"
  },
  "language_info": {
   "codemirror_mode": {
    "name": "ipython",
    "version": 3
   },
   "file_extension": ".py",
   "mimetype": "text/x-python",
   "name": "python",
   "nbconvert_exporter": "python",
   "pygments_lexer": "ipython3",
   "version": "3.7.6"
  },
  "toc-autonumbering": true
 },
 "nbformat": 4,
 "nbformat_minor": 4
}
