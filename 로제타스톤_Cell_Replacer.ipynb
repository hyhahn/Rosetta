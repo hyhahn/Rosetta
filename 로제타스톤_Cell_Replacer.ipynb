{
 "cells": [
  {
   "cell_type": "markdown",
   "metadata": {},
   "source": [
    "# Cell Replacer"
   ]
  },
  {
   "cell_type": "code",
   "execution_count": 1,
   "metadata": {},
   "outputs": [],
   "source": [
    "# 임포트 판다스\n",
    "\n",
    "\n",
    "import time\n",
    "\n",
    "import pandas as pd\n",
    "from pandas import DataFrame, Series\n",
    "\n"
   ]
  },
  {
   "cell_type": "markdown",
   "metadata": {},
   "source": [
    "## 텍스트 파일 불러오기 "
   ]
  },
  {
   "cell_type": "markdown",
   "metadata": {},
   "source": [
    "- 팁 : 시간 계산 방법"
   ]
  },
  {
   "cell_type": "code",
   "execution_count": 2,
   "metadata": {},
   "outputs": [],
   "source": [
    "#filename = '예제.csv'\n",
    "filename = \"/Users/bk/Downloads/200210 projects_commercial_mean(사업화내용제외).txt\""
   ]
  },
  {
   "cell_type": "code",
   "execution_count": 3,
   "metadata": {},
   "outputs": [
    {
     "name": "stdout",
     "output_type": "stream",
     "text": [
      "53.96 seconds have passed\n"
     ]
    }
   ],
   "source": [
    "t1 = time.time()\n",
    "df = pd.read_csv(filename, sep='\\t', engine='python', encoding='cp949')\n",
    "#df = pd.read_table(filename, sep=',', encoding='cp949')\n",
    "df.head(3)\n",
    "\n",
    "t2 = time.time() - t1\n",
    "\n",
    "print(f\"{t2:.2f} seconds have passed\")\n",
    "#70.31 seconds have passed (note book ... )"
   ]
  },
  {
   "cell_type": "code",
   "execution_count": 7,
   "metadata": {},
   "outputs": [
    {
     "data": {
      "text/plain": [
       "Index(['기준년도', '사업목적분류', '사업명', '프로그램코드', '단위사업코드', '세부사업코드', '사업부처코드', '사업부처',\n",
       "       '연구개발재원', '계속과제여부구분',\n",
       "       ...\n",
       "       '당해년도매출액', '사업화성과건수', '중복건수.x', '당해년도매출평균', '고용창출인원평균', '연구분야대분류',\n",
       "       '연구분야중분류', '번호', '중복건수.y', '정부투자연구비평균'],\n",
       "      dtype='object', length=106)"
      ]
     },
     "execution_count": 7,
     "metadata": {},
     "output_type": "execute_result"
    }
   ],
   "source": [
    "df.columns"
   ]
  },
  {
   "cell_type": "code",
   "execution_count": 9,
   "metadata": {},
   "outputs": [
    {
     "data": {
      "text/plain": [
       "-             323781\n",
       "기타개발          284333\n",
       "제품 또는 공정개발    144802\n",
       "아이디어개발         61866\n",
       "시작품개발          56562\n",
       "Name: 연구개발성격구분, dtype: int64"
      ]
     },
     "execution_count": 9,
     "metadata": {},
     "output_type": "execute_result"
    }
   ],
   "source": [
    "df['연구개발성격구분'].value_counts()"
   ]
  },
  {
   "cell_type": "markdown",
   "metadata": {},
   "source": [
    "## 특정 필드의 값을 특정 조건에 따라 바꾸는 방법"
   ]
  },
  {
   "cell_type": "markdown",
   "metadata": {},
   "source": [
    "- 시리즈.map(lambda x : 함수) 방법 이용"
   ]
  },
  {
   "cell_type": "code",
   "execution_count": 54,
   "metadata": {},
   "outputs": [
    {
     "data": {
      "text/plain": [
       "dict"
      ]
     },
     "execution_count": 54,
     "metadata": {},
     "output_type": "execute_result"
    }
   ],
   "source": [
    "# 사전 타입의 객체 생성 \n",
    "# key, value  쌍(pair)\n",
    "\n",
    "dic_stage = { '기타개발':'4기타개발', \n",
    "        '제품 또는 공정개발':'3제품 또는 공정개발' ,\n",
    "        '아이디어개발':'2아이디어개발',\n",
    "        '시작품개발':'1시작품개발',\n",
    "        '-':'-'}\n",
    "\n",
    "# type()함수로 객체의 형(type) 알아내기\n",
    "type(dic_stage)"
   ]
  },
  {
   "cell_type": "code",
   "execution_count": 55,
   "metadata": {},
   "outputs": [
    {
     "data": {
      "text/plain": [
       "'4기타개발'"
      ]
     },
     "execution_count": 55,
     "metadata": {},
     "output_type": "execute_result"
    }
   ],
   "source": [
    "dic_stage['기타개발']"
   ]
  },
  {
   "cell_type": "code",
   "execution_count": 56,
   "metadata": {},
   "outputs": [
    {
     "data": {
      "text/plain": [
       "dict_keys(['기타개발', '제품 또는 공정개발', '아이디어개발', '시작품개발', '-'])"
      ]
     },
     "execution_count": 56,
     "metadata": {},
     "output_type": "execute_result"
    }
   ],
   "source": [
    "dic_stage.keys()"
   ]
  },
  {
   "cell_type": "code",
   "execution_count": 57,
   "metadata": {},
   "outputs": [
    {
     "name": "stdout",
     "output_type": "stream",
     "text": [
      "<class 'int'> <class 'str'> <class 'float'>\n"
     ]
    }
   ],
   "source": [
    "a = 1\n",
    "b = 'abc'\n",
    "c = 1.\n",
    "print(type(a),type(b),type(c))\n",
    "\n",
    "# int    : int, integer\n",
    "# float  : float, double\n",
    "# str   : string"
   ]
  },
  {
   "cell_type": "code",
   "execution_count": 59,
   "metadata": {},
   "outputs": [
    {
     "data": {
      "text/plain": [
       "0    -\n",
       "1    -\n",
       "2    -\n",
       "Name: 연구개발성격구분(신규), dtype: object"
      ]
     },
     "execution_count": 59,
     "metadata": {},
     "output_type": "execute_result"
    }
   ],
   "source": [
    "df['연구개발성격구분(신규)'] = df['연구개발성격구분'].map(lambda x : dic_stage[x])\n",
    "df['연구개발성격구분(신규)'].head(3)"
   ]
  },
  {
   "cell_type": "code",
   "execution_count": 60,
   "metadata": {},
   "outputs": [
    {
     "data": {
      "text/plain": [
       "-              323781\n",
       "4기타개발          284333\n",
       "3제품 또는 공정개발    144802\n",
       "2아이디어개발         61866\n",
       "1시작품개발          56562\n",
       "Name: 연구개발성격구분(신규), dtype: int64"
      ]
     },
     "execution_count": 60,
     "metadata": {},
     "output_type": "execute_result"
    }
   ],
   "source": [
    "df['연구개발성격구분(신규)'].value_counts()"
   ]
  },
  {
   "cell_type": "code",
   "execution_count": 61,
   "metadata": {},
   "outputs": [
    {
     "data": {
      "text/html": [
       "<div>\n",
       "<style scoped>\n",
       "    .dataframe tbody tr th:only-of-type {\n",
       "        vertical-align: middle;\n",
       "    }\n",
       "\n",
       "    .dataframe tbody tr th {\n",
       "        vertical-align: top;\n",
       "    }\n",
       "\n",
       "    .dataframe thead th {\n",
       "        text-align: right;\n",
       "    }\n",
       "</style>\n",
       "<table border=\"1\" class=\"dataframe\">\n",
       "  <thead>\n",
       "    <tr style=\"text-align: right;\">\n",
       "      <th></th>\n",
       "      <th>기준년도</th>\n",
       "      <th>사업목적분류</th>\n",
       "      <th>사업명</th>\n",
       "      <th>프로그램코드</th>\n",
       "      <th>단위사업코드</th>\n",
       "      <th>세부사업코드</th>\n",
       "      <th>사업부처코드</th>\n",
       "      <th>사업부처</th>\n",
       "      <th>연구개발재원</th>\n",
       "      <th>계속과제여부구분</th>\n",
       "      <th>...</th>\n",
       "      <th>사업화성과건수</th>\n",
       "      <th>중복건수.x</th>\n",
       "      <th>당해년도매출평균</th>\n",
       "      <th>고용창출인원평균</th>\n",
       "      <th>연구분야대분류</th>\n",
       "      <th>연구분야중분류</th>\n",
       "      <th>번호</th>\n",
       "      <th>중복건수.y</th>\n",
       "      <th>정부투자연구비평균</th>\n",
       "      <th>연구개발성격구분(신규)</th>\n",
       "    </tr>\n",
       "  </thead>\n",
       "  <tbody>\n",
       "    <tr>\n",
       "      <th>0</th>\n",
       "      <td>2003.0</td>\n",
       "      <td>-</td>\n",
       "      <td>9개지역산업진흥(지연전용R&amp;D)</td>\n",
       "      <td>2.30E+15</td>\n",
       "      <td>2.30E+15</td>\n",
       "      <td>-</td>\n",
       "      <td>38</td>\n",
       "      <td>산업자원부</td>\n",
       "      <td>-</td>\n",
       "      <td>-</td>\n",
       "      <td>...</td>\n",
       "      <td>NaN</td>\n",
       "      <td>NaN</td>\n",
       "      <td>NaN</td>\n",
       "      <td>NaN</td>\n",
       "      <td>F</td>\n",
       "      <td>F</td>\n",
       "      <td>1</td>\n",
       "      <td>1</td>\n",
       "      <td>100000000.0</td>\n",
       "      <td>-</td>\n",
       "    </tr>\n",
       "    <tr>\n",
       "      <th>1</th>\n",
       "      <td>2003.0</td>\n",
       "      <td>-</td>\n",
       "      <td>9개지역산업진흥(지연전용R&amp;D)</td>\n",
       "      <td>2.30E+15</td>\n",
       "      <td>2.30E+15</td>\n",
       "      <td>-</td>\n",
       "      <td>38</td>\n",
       "      <td>산업자원부</td>\n",
       "      <td>-</td>\n",
       "      <td>-</td>\n",
       "      <td>...</td>\n",
       "      <td>NaN</td>\n",
       "      <td>NaN</td>\n",
       "      <td>NaN</td>\n",
       "      <td>NaN</td>\n",
       "      <td>I</td>\n",
       "      <td>I</td>\n",
       "      <td>2</td>\n",
       "      <td>1</td>\n",
       "      <td>90000000.0</td>\n",
       "      <td>-</td>\n",
       "    </tr>\n",
       "    <tr>\n",
       "      <th>2</th>\n",
       "      <td>2003.0</td>\n",
       "      <td>-</td>\n",
       "      <td>9개지역산업진흥(지연전용R&amp;D)</td>\n",
       "      <td>2.30E+15</td>\n",
       "      <td>2.30E+15</td>\n",
       "      <td>-</td>\n",
       "      <td>38</td>\n",
       "      <td>산업자원부</td>\n",
       "      <td>-</td>\n",
       "      <td>-</td>\n",
       "      <td>...</td>\n",
       "      <td>NaN</td>\n",
       "      <td>NaN</td>\n",
       "      <td>NaN</td>\n",
       "      <td>NaN</td>\n",
       "      <td>I</td>\n",
       "      <td>I</td>\n",
       "      <td>3</td>\n",
       "      <td>1</td>\n",
       "      <td>70000000.0</td>\n",
       "      <td>-</td>\n",
       "    </tr>\n",
       "  </tbody>\n",
       "</table>\n",
       "<p>3 rows × 107 columns</p>\n",
       "</div>"
      ],
      "text/plain": [
       "     기준년도 사업목적분류                사업명    프로그램코드    단위사업코드 세부사업코드 사업부처코드   사업부처  \\\n",
       "0  2003.0      -  9개지역산업진흥(지연전용R&D)  2.30E+15  2.30E+15      -     38  산업자원부   \n",
       "1  2003.0      -  9개지역산업진흥(지연전용R&D)  2.30E+15  2.30E+15      -     38  산업자원부   \n",
       "2  2003.0      -  9개지역산업진흥(지연전용R&D)  2.30E+15  2.30E+15      -     38  산업자원부   \n",
       "\n",
       "  연구개발재원 계속과제여부구분  ... 사업화성과건수 중복건수.x 당해년도매출평균 고용창출인원평균 연구분야대분류 연구분야중분류 번호  \\\n",
       "0      -        -  ...     NaN    NaN      NaN      NaN       F       F  1   \n",
       "1      -        -  ...     NaN    NaN      NaN      NaN       I       I  2   \n",
       "2      -        -  ...     NaN    NaN      NaN      NaN       I       I  3   \n",
       "\n",
       "  중복건수.y    정부투자연구비평균  연구개발성격구분(신규)  \n",
       "0      1  100000000.0             -  \n",
       "1      1   90000000.0             -  \n",
       "2      1   70000000.0             -  \n",
       "\n",
       "[3 rows x 107 columns]"
      ]
     },
     "execution_count": 61,
     "metadata": {},
     "output_type": "execute_result"
    }
   ],
   "source": []
  },
  {
   "cell_type": "markdown",
   "metadata": {},
   "source": [
    "# 간단한 예제 : map() 이용, 람다함수 표현 방법 익숙해 지기"
   ]
  },
  {
   "cell_type": "code",
   "execution_count": 22,
   "metadata": {},
   "outputs": [
    {
     "data": {
      "text/html": [
       "<div>\n",
       "<style scoped>\n",
       "    .dataframe tbody tr th:only-of-type {\n",
       "        vertical-align: middle;\n",
       "    }\n",
       "\n",
       "    .dataframe tbody tr th {\n",
       "        vertical-align: top;\n",
       "    }\n",
       "\n",
       "    .dataframe thead th {\n",
       "        text-align: right;\n",
       "    }\n",
       "</style>\n",
       "<table border=\"1\" class=\"dataframe\">\n",
       "  <thead>\n",
       "    <tr style=\"text-align: right;\">\n",
       "      <th></th>\n",
       "      <th>a</th>\n",
       "      <th>b</th>\n",
       "    </tr>\n",
       "  </thead>\n",
       "  <tbody>\n",
       "    <tr>\n",
       "      <th>0</th>\n",
       "      <td>1</td>\n",
       "      <td>1</td>\n",
       "    </tr>\n",
       "    <tr>\n",
       "      <th>1</th>\n",
       "      <td>2</td>\n",
       "      <td>3</td>\n",
       "    </tr>\n",
       "    <tr>\n",
       "      <th>2</th>\n",
       "      <td>3</td>\n",
       "      <td>4</td>\n",
       "    </tr>\n",
       "  </tbody>\n",
       "</table>\n",
       "</div>"
      ],
      "text/plain": [
       "   a  b\n",
       "0  1  1\n",
       "1  2  3\n",
       "2  3  4"
      ]
     },
     "execution_count": 22,
     "metadata": {},
     "output_type": "execute_result"
    }
   ],
   "source": [
    "dfe = DataFrame( [[1,1,],[2,3],[3,4]], columns=['a','b'])\n",
    "dfe"
   ]
  },
  {
   "cell_type": "code",
   "execution_count": 41,
   "metadata": {},
   "outputs": [
    {
     "data": {
      "text/plain": [
       "{1: 'apple', 2: 'banana', 3: 'grape'}"
      ]
     },
     "execution_count": 41,
     "metadata": {},
     "output_type": "execute_result"
    }
   ],
   "source": [
    "dic2 = {1:'apple', 2:'banana',3:'grape'}\n",
    "dic2"
   ]
  },
  {
   "cell_type": "code",
   "execution_count": 42,
   "metadata": {},
   "outputs": [
    {
     "data": {
      "text/plain": [
       "'apple'"
      ]
     },
     "execution_count": 42,
     "metadata": {},
     "output_type": "execute_result"
    }
   ],
   "source": [
    "dic2[1]"
   ]
  },
  {
   "cell_type": "code",
   "execution_count": 43,
   "metadata": {},
   "outputs": [
    {
     "data": {
      "text/plain": [
       "0    1\n",
       "1    2\n",
       "2    3\n",
       "Name: a, dtype: int64"
      ]
     },
     "execution_count": 43,
     "metadata": {},
     "output_type": "execute_result"
    }
   ],
   "source": [
    "dfe['a']"
   ]
  },
  {
   "cell_type": "code",
   "execution_count": 44,
   "metadata": {},
   "outputs": [
    {
     "data": {
      "text/html": [
       "<div>\n",
       "<style scoped>\n",
       "    .dataframe tbody tr th:only-of-type {\n",
       "        vertical-align: middle;\n",
       "    }\n",
       "\n",
       "    .dataframe tbody tr th {\n",
       "        vertical-align: top;\n",
       "    }\n",
       "\n",
       "    .dataframe thead th {\n",
       "        text-align: right;\n",
       "    }\n",
       "</style>\n",
       "<table border=\"1\" class=\"dataframe\">\n",
       "  <thead>\n",
       "    <tr style=\"text-align: right;\">\n",
       "      <th></th>\n",
       "      <th>a</th>\n",
       "      <th>b</th>\n",
       "      <th>c</th>\n",
       "      <th>d</th>\n",
       "    </tr>\n",
       "  </thead>\n",
       "  <tbody>\n",
       "    <tr>\n",
       "      <th>0</th>\n",
       "      <td>1</td>\n",
       "      <td>1</td>\n",
       "      <td>apple</td>\n",
       "      <td>apple</td>\n",
       "    </tr>\n",
       "    <tr>\n",
       "      <th>1</th>\n",
       "      <td>2</td>\n",
       "      <td>3</td>\n",
       "      <td>banana</td>\n",
       "      <td>banana</td>\n",
       "    </tr>\n",
       "    <tr>\n",
       "      <th>2</th>\n",
       "      <td>3</td>\n",
       "      <td>4</td>\n",
       "      <td>grape</td>\n",
       "      <td>***</td>\n",
       "    </tr>\n",
       "  </tbody>\n",
       "</table>\n",
       "</div>"
      ],
      "text/plain": [
       "   a  b       c       d\n",
       "0  1  1   apple   apple\n",
       "1  2  3  banana  banana\n",
       "2  3  4   grape     ***"
      ]
     },
     "execution_count": 44,
     "metadata": {},
     "output_type": "execute_result"
    }
   ],
   "source": [
    "# 방법1\n",
    "dfe['c'] = dfe['a'].map(lambda x : dic2[x])\n",
    "dfe"
   ]
  },
  {
   "cell_type": "code",
   "execution_count": 45,
   "metadata": {},
   "outputs": [
    {
     "data": {
      "text/html": [
       "<div>\n",
       "<style scoped>\n",
       "    .dataframe tbody tr th:only-of-type {\n",
       "        vertical-align: middle;\n",
       "    }\n",
       "\n",
       "    .dataframe tbody tr th {\n",
       "        vertical-align: top;\n",
       "    }\n",
       "\n",
       "    .dataframe thead th {\n",
       "        text-align: right;\n",
       "    }\n",
       "</style>\n",
       "<table border=\"1\" class=\"dataframe\">\n",
       "  <thead>\n",
       "    <tr style=\"text-align: right;\">\n",
       "      <th></th>\n",
       "      <th>a</th>\n",
       "      <th>b</th>\n",
       "      <th>c</th>\n",
       "      <th>d</th>\n",
       "    </tr>\n",
       "  </thead>\n",
       "  <tbody>\n",
       "    <tr>\n",
       "      <th>0</th>\n",
       "      <td>1</td>\n",
       "      <td>1</td>\n",
       "      <td>apple</td>\n",
       "      <td>apple</td>\n",
       "    </tr>\n",
       "    <tr>\n",
       "      <th>1</th>\n",
       "      <td>2</td>\n",
       "      <td>3</td>\n",
       "      <td>banana</td>\n",
       "      <td>banana</td>\n",
       "    </tr>\n",
       "    <tr>\n",
       "      <th>2</th>\n",
       "      <td>3</td>\n",
       "      <td>4</td>\n",
       "      <td>grape</td>\n",
       "      <td>grape</td>\n",
       "    </tr>\n",
       "  </tbody>\n",
       "</table>\n",
       "</div>"
      ],
      "text/plain": [
       "   a  b       c       d\n",
       "0  1  1   apple   apple\n",
       "1  2  3  banana  banana\n",
       "2  3  4   grape   grape"
      ]
     },
     "execution_count": 45,
     "metadata": {},
     "output_type": "execute_result"
    }
   ],
   "source": [
    "# 방법2\n",
    "def trans1(x1, dic_a1):\n",
    "    if x1 in dic_a1.keys():\n",
    "        return dic_a1[x1]\n",
    "    else:\n",
    "        return None\n",
    "#방법3   \n",
    "def trans2(x1, dic_a1):\n",
    "    return dic_a1.get(x1,'***')\n",
    "\n",
    "dfe['d'] = dfe['a'].map(lambda x : trans2(x, dic2))\n",
    "dfe"
   ]
  },
  {
   "cell_type": "code",
   "execution_count": null,
   "metadata": {},
   "outputs": [],
   "source": [
    "- 인덱스 : 위치값, 0,1,2.... n-1\n",
    "- row index\n",
    "- column index "
   ]
  },
  {
   "cell_type": "code",
   "execution_count": 48,
   "metadata": {},
   "outputs": [
    {
     "data": {
      "text/plain": [
       "[1, 2, 3]"
      ]
     },
     "execution_count": 48,
     "metadata": {},
     "output_type": "execute_result"
    }
   ],
   "source": [
    "a=[[1,2,3]]\n",
    "a[0]"
   ]
  },
  {
   "cell_type": "code",
   "execution_count": null,
   "metadata": {},
   "outputs": [],
   "source": []
  }
 ],
 "metadata": {
  "kernelspec": {
   "display_name": "Python 3",
   "language": "python",
   "name": "python3"
  },
  "language_info": {
   "codemirror_mode": {
    "name": "ipython",
    "version": 3
   },
   "file_extension": ".py",
   "mimetype": "text/x-python",
   "name": "python",
   "nbconvert_exporter": "python",
   "pygments_lexer": "ipython3",
   "version": "3.7.7"
  }
 },
 "nbformat": 4,
 "nbformat_minor": 4
}
