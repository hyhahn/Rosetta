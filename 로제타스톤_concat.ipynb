{
 "cells": [
  {
   "cell_type": "markdown",
   "metadata": {},
   "source": [
    "# concatenate (concat)"
   ]
  },
  {
   "cell_type": "code",
   "execution_count": 1,
   "metadata": {},
   "outputs": [],
   "source": [
    "# 임포트 판다스\n",
    "\n",
    "import pandas as pd\n",
    "from pandas import DataFrame, Series"
   ]
  },
  {
   "cell_type": "markdown",
   "metadata": {},
   "source": [
    "## 엑셀파일 불러오기 "
   ]
  },
  {
   "cell_type": "code",
   "execution_count": 2,
   "metadata": {},
   "outputs": [
    {
     "name": "stdout",
     "output_type": "stream",
     "text": [
      "/Users/bk/Dropbox/로제타스톤\n"
     ]
    }
   ],
   "source": [
    "!pwd"
   ]
  },
  {
   "cell_type": "code",
   "execution_count": 3,
   "metadata": {},
   "outputs": [],
   "source": [
    "file1 = '/Users/bk/Desktop/Desktop1.xlsx'\n",
    "file2 = '/Users/bk/Desktop/Desktop2.xlsx'"
   ]
  },
  {
   "cell_type": "code",
   "execution_count": 8,
   "metadata": {},
   "outputs": [
    {
     "data": {
      "text/plain": [
       "(1288, 108)"
      ]
     },
     "execution_count": 8,
     "metadata": {},
     "output_type": "execute_result"
    }
   ],
   "source": [
    "# 방법1\n",
    "df1 = pd.read_excel('/Users/bk/Desktop/Desktop1.xlsx')\n",
    "df1.shape"
   ]
  },
  {
   "cell_type": "code",
   "execution_count": 4,
   "metadata": {},
   "outputs": [],
   "source": [
    "# 방법2\n",
    "df1 = pd.read_excel(file1)"
   ]
  },
  {
   "cell_type": "code",
   "execution_count": 5,
   "metadata": {},
   "outputs": [
    {
     "data": {
      "text/html": [
       "<div>\n",
       "<style scoped>\n",
       "    .dataframe tbody tr th:only-of-type {\n",
       "        vertical-align: middle;\n",
       "    }\n",
       "\n",
       "    .dataframe tbody tr th {\n",
       "        vertical-align: top;\n",
       "    }\n",
       "\n",
       "    .dataframe thead th {\n",
       "        text-align: right;\n",
       "    }\n",
       "</style>\n",
       "<table border=\"1\" class=\"dataframe\">\n",
       "  <thead>\n",
       "    <tr style=\"text-align: right;\">\n",
       "      <th></th>\n",
       "      <th>row ID</th>\n",
       "      <th>기준년도</th>\n",
       "      <th>사업목적분류</th>\n",
       "      <th>사업명</th>\n",
       "      <th>프로그램코드</th>\n",
       "      <th>단위사업코드</th>\n",
       "      <th>세부사업코드</th>\n",
       "      <th>사업부처코드</th>\n",
       "      <th>사업부처</th>\n",
       "      <th>연구개발재원</th>\n",
       "      <th>...</th>\n",
       "      <th>사업화성과건수</th>\n",
       "      <th>중복건수.x</th>\n",
       "      <th>당해년도매출평균</th>\n",
       "      <th>고용창출인원평균</th>\n",
       "      <th>연구분야대분류</th>\n",
       "      <th>연구분야중분류</th>\n",
       "      <th>번호</th>\n",
       "      <th>중복건수.y</th>\n",
       "      <th>정부투자연구비평균</th>\n",
       "      <th>연구개발성격구분(신)</th>\n",
       "    </tr>\n",
       "  </thead>\n",
       "  <tbody>\n",
       "    <tr>\n",
       "      <th>0</th>\n",
       "      <td>Row125362</td>\n",
       "      <td>2007</td>\n",
       "      <td>-</td>\n",
       "      <td>국제핵융합실험로공동개발사업</td>\n",
       "      <td>2.01E+15</td>\n",
       "      <td>2.01E+15</td>\n",
       "      <td>-</td>\n",
       "      <td>21</td>\n",
       "      <td>과학기술부</td>\n",
       "      <td>-</td>\n",
       "      <td>...</td>\n",
       "      <td>NaN</td>\n",
       "      <td>NaN</td>\n",
       "      <td>NaN</td>\n",
       "      <td>NaN</td>\n",
       "      <td>P8</td>\n",
       "      <td>P8</td>\n",
       "      <td>125363</td>\n",
       "      <td>1</td>\n",
       "      <td>10100000000</td>\n",
       "      <td>NaN</td>\n",
       "    </tr>\n",
       "    <tr>\n",
       "      <th>1</th>\n",
       "      <td>Row125363</td>\n",
       "      <td>2007</td>\n",
       "      <td>-</td>\n",
       "      <td>국제핵융합실험로공동개발사업</td>\n",
       "      <td>2.01E+15</td>\n",
       "      <td>2.01E+15</td>\n",
       "      <td>-</td>\n",
       "      <td>21</td>\n",
       "      <td>과학기술부</td>\n",
       "      <td>-</td>\n",
       "      <td>...</td>\n",
       "      <td>NaN</td>\n",
       "      <td>NaN</td>\n",
       "      <td>NaN</td>\n",
       "      <td>NaN</td>\n",
       "      <td>P8</td>\n",
       "      <td>P8</td>\n",
       "      <td>125364</td>\n",
       "      <td>1</td>\n",
       "      <td>682000000</td>\n",
       "      <td>NaN</td>\n",
       "    </tr>\n",
       "    <tr>\n",
       "      <th>2</th>\n",
       "      <td>Row125364</td>\n",
       "      <td>2007</td>\n",
       "      <td>-</td>\n",
       "      <td>국제핵융합실험로공동개발사업</td>\n",
       "      <td>2.01E+15</td>\n",
       "      <td>2.01E+15</td>\n",
       "      <td>-</td>\n",
       "      <td>21</td>\n",
       "      <td>과학기술부</td>\n",
       "      <td>-</td>\n",
       "      <td>...</td>\n",
       "      <td>NaN</td>\n",
       "      <td>NaN</td>\n",
       "      <td>NaN</td>\n",
       "      <td>NaN</td>\n",
       "      <td>P8</td>\n",
       "      <td>P8</td>\n",
       "      <td>125365</td>\n",
       "      <td>1</td>\n",
       "      <td>391000000</td>\n",
       "      <td>NaN</td>\n",
       "    </tr>\n",
       "  </tbody>\n",
       "</table>\n",
       "<p>3 rows × 108 columns</p>\n",
       "</div>"
      ],
      "text/plain": [
       "      row ID  기준년도 사업목적분류             사업명    프로그램코드    단위사업코드 세부사업코드 사업부처코드  \\\n",
       "0  Row125362  2007      -  국제핵융합실험로공동개발사업  2.01E+15  2.01E+15      -     21   \n",
       "1  Row125363  2007      -  국제핵융합실험로공동개발사업  2.01E+15  2.01E+15      -     21   \n",
       "2  Row125364  2007      -  국제핵융합실험로공동개발사업  2.01E+15  2.01E+15      -     21   \n",
       "\n",
       "    사업부처 연구개발재원  ... 사업화성과건수 중복건수.x 당해년도매출평균  고용창출인원평균 연구분야대분류 연구분야중분류  \\\n",
       "0  과학기술부      -  ...     NaN    NaN      NaN       NaN      P8      P8   \n",
       "1  과학기술부      -  ...     NaN    NaN      NaN       NaN      P8      P8   \n",
       "2  과학기술부      -  ...     NaN    NaN      NaN       NaN      P8      P8   \n",
       "\n",
       "       번호 중복건수.y    정부투자연구비평균 연구개발성격구분(신)  \n",
       "0  125363      1  10100000000         NaN  \n",
       "1  125364      1    682000000         NaN  \n",
       "2  125365      1    391000000         NaN  \n",
       "\n",
       "[3 rows x 108 columns]"
      ]
     },
     "execution_count": 5,
     "metadata": {},
     "output_type": "execute_result"
    }
   ],
   "source": [
    "df1.head(3)"
   ]
  },
  {
   "cell_type": "code",
   "execution_count": 7,
   "metadata": {},
   "outputs": [
    {
     "data": {
      "text/plain": [
       "(1288, 108)"
      ]
     },
     "execution_count": 7,
     "metadata": {},
     "output_type": "execute_result"
    }
   ],
   "source": [
    "df1.shape"
   ]
  },
  {
   "cell_type": "code",
   "execution_count": 6,
   "metadata": {},
   "outputs": [
    {
     "data": {
      "text/plain": [
       "(14367, 108)"
      ]
     },
     "execution_count": 6,
     "metadata": {},
     "output_type": "execute_result"
    }
   ],
   "source": [
    "df2 = pd.read_excel(file2)\n",
    "df2.shape"
   ]
  },
  {
   "cell_type": "code",
   "execution_count": 9,
   "metadata": {},
   "outputs": [
    {
     "data": {
      "text/html": [
       "<div>\n",
       "<style scoped>\n",
       "    .dataframe tbody tr th:only-of-type {\n",
       "        vertical-align: middle;\n",
       "    }\n",
       "\n",
       "    .dataframe tbody tr th {\n",
       "        vertical-align: top;\n",
       "    }\n",
       "\n",
       "    .dataframe thead th {\n",
       "        text-align: right;\n",
       "    }\n",
       "</style>\n",
       "<table border=\"1\" class=\"dataframe\">\n",
       "  <thead>\n",
       "    <tr style=\"text-align: right;\">\n",
       "      <th></th>\n",
       "      <th>row ID</th>\n",
       "      <th>기준년도</th>\n",
       "      <th>사업목적분류</th>\n",
       "      <th>사업명</th>\n",
       "      <th>프로그램코드</th>\n",
       "      <th>단위사업코드</th>\n",
       "      <th>세부사업코드</th>\n",
       "      <th>사업부처코드</th>\n",
       "      <th>사업부처</th>\n",
       "      <th>연구개발재원</th>\n",
       "      <th>...</th>\n",
       "      <th>사업화성과건수</th>\n",
       "      <th>중복건수.x</th>\n",
       "      <th>당해년도매출평균</th>\n",
       "      <th>고용창출인원평균</th>\n",
       "      <th>연구분야대분류</th>\n",
       "      <th>연구분야중분류</th>\n",
       "      <th>번호</th>\n",
       "      <th>중복건수.y</th>\n",
       "      <th>정부투자연구비평균</th>\n",
       "      <th>연구개발성격구분(신)</th>\n",
       "    </tr>\n",
       "  </thead>\n",
       "  <tbody>\n",
       "    <tr>\n",
       "      <th>0</th>\n",
       "      <td>Row252546</td>\n",
       "      <td>2010</td>\n",
       "      <td>-</td>\n",
       "      <td>공공복지안전연구사업</td>\n",
       "      <td>-</td>\n",
       "      <td>-</td>\n",
       "      <td>-</td>\n",
       "      <td>N15</td>\n",
       "      <td>교육과학기술부</td>\n",
       "      <td>일반회계</td>\n",
       "      <td>...</td>\n",
       "      <td>NaN</td>\n",
       "      <td>NaN</td>\n",
       "      <td>NaN</td>\n",
       "      <td>NaN</td>\n",
       "      <td>G0</td>\n",
       "      <td>G05</td>\n",
       "      <td>252547</td>\n",
       "      <td>1</td>\n",
       "      <td>150000000.0</td>\n",
       "      <td>1아이디어개발</td>\n",
       "    </tr>\n",
       "    <tr>\n",
       "      <th>1</th>\n",
       "      <td>Row252547</td>\n",
       "      <td>2010</td>\n",
       "      <td>-</td>\n",
       "      <td>공공복지안전연구사업</td>\n",
       "      <td>-</td>\n",
       "      <td>-</td>\n",
       "      <td>-</td>\n",
       "      <td>N15</td>\n",
       "      <td>교육과학기술부</td>\n",
       "      <td>일반회계</td>\n",
       "      <td>...</td>\n",
       "      <td>NaN</td>\n",
       "      <td>NaN</td>\n",
       "      <td>NaN</td>\n",
       "      <td>NaN</td>\n",
       "      <td>E0</td>\n",
       "      <td>E02</td>\n",
       "      <td>252548</td>\n",
       "      <td>1</td>\n",
       "      <td>80600000.0</td>\n",
       "      <td>1아이디어개발</td>\n",
       "    </tr>\n",
       "    <tr>\n",
       "      <th>2</th>\n",
       "      <td>Row252548</td>\n",
       "      <td>2010</td>\n",
       "      <td>-</td>\n",
       "      <td>공공복지안전연구사업</td>\n",
       "      <td>-</td>\n",
       "      <td>-</td>\n",
       "      <td>-</td>\n",
       "      <td>N15</td>\n",
       "      <td>교육과학기술부</td>\n",
       "      <td>일반회계</td>\n",
       "      <td>...</td>\n",
       "      <td>NaN</td>\n",
       "      <td>NaN</td>\n",
       "      <td>NaN</td>\n",
       "      <td>NaN</td>\n",
       "      <td>G0</td>\n",
       "      <td>G05</td>\n",
       "      <td>252549</td>\n",
       "      <td>1</td>\n",
       "      <td>104000000.0</td>\n",
       "      <td>1아이디어개발</td>\n",
       "    </tr>\n",
       "  </tbody>\n",
       "</table>\n",
       "<p>3 rows × 108 columns</p>\n",
       "</div>"
      ],
      "text/plain": [
       "      row ID  기준년도 사업목적분류         사업명 프로그램코드 단위사업코드 세부사업코드 사업부처코드     사업부처  \\\n",
       "0  Row252546  2010      -  공공복지안전연구사업      -      -      -    N15  교육과학기술부   \n",
       "1  Row252547  2010      -  공공복지안전연구사업      -      -      -    N15  교육과학기술부   \n",
       "2  Row252548  2010      -  공공복지안전연구사업      -      -      -    N15  교육과학기술부   \n",
       "\n",
       "  연구개발재원  ... 사업화성과건수 중복건수.x 당해년도매출평균  고용창출인원평균 연구분야대분류 연구분야중분류      번호  \\\n",
       "0   일반회계  ...     NaN    NaN      NaN       NaN      G0     G05  252547   \n",
       "1   일반회계  ...     NaN    NaN      NaN       NaN      E0     E02  252548   \n",
       "2   일반회계  ...     NaN    NaN      NaN       NaN      G0     G05  252549   \n",
       "\n",
       "  중복건수.y    정부투자연구비평균 연구개발성격구분(신)  \n",
       "0      1  150000000.0     1아이디어개발  \n",
       "1      1   80600000.0     1아이디어개발  \n",
       "2      1  104000000.0     1아이디어개발  \n",
       "\n",
       "[3 rows x 108 columns]"
      ]
     },
     "execution_count": 9,
     "metadata": {},
     "output_type": "execute_result"
    }
   ],
   "source": [
    "df2.head(3)"
   ]
  },
  {
   "cell_type": "markdown",
   "metadata": {},
   "source": [
    "## concat"
   ]
  },
  {
   "cell_type": "markdown",
   "metadata": {},
   "source": [
    "합친데이타프레임 = pd.concat( [ 데이타프레임1, 데이타프레임2, ...... ])"
   ]
  },
  {
   "cell_type": "code",
   "execution_count": 12,
   "metadata": {},
   "outputs": [],
   "source": [
    "a1 = df1.columns"
   ]
  },
  {
   "cell_type": "code",
   "execution_count": 13,
   "metadata": {},
   "outputs": [],
   "source": [
    "a2 = df2.columns"
   ]
  },
  {
   "cell_type": "code",
   "execution_count": 17,
   "metadata": {},
   "outputs": [
    {
     "data": {
      "text/plain": [
       "108"
      ]
     },
     "execution_count": 17,
     "metadata": {},
     "output_type": "execute_result"
    }
   ],
   "source": [
    "sum((a1 == a2))"
   ]
  },
  {
   "cell_type": "code",
   "execution_count": 18,
   "metadata": {},
   "outputs": [
    {
     "data": {
      "text/plain": [
       "15655"
      ]
     },
     "execution_count": 18,
     "metadata": {},
     "output_type": "execute_result"
    }
   ],
   "source": [
    "df1.shape[0] + df2.shape[0]"
   ]
  },
  {
   "cell_type": "code",
   "execution_count": 19,
   "metadata": {},
   "outputs": [
    {
     "data": {
      "text/plain": [
       "(15655, 108)"
      ]
     },
     "execution_count": 19,
     "metadata": {},
     "output_type": "execute_result"
    }
   ],
   "source": [
    "df3 = pd.concat([df1,df2])\n",
    "df3.shape"
   ]
  },
  {
   "cell_type": "code",
   "execution_count": 20,
   "metadata": {},
   "outputs": [
    {
     "data": {
      "text/html": [
       "<div>\n",
       "<style scoped>\n",
       "    .dataframe tbody tr th:only-of-type {\n",
       "        vertical-align: middle;\n",
       "    }\n",
       "\n",
       "    .dataframe tbody tr th {\n",
       "        vertical-align: top;\n",
       "    }\n",
       "\n",
       "    .dataframe thead th {\n",
       "        text-align: right;\n",
       "    }\n",
       "</style>\n",
       "<table border=\"1\" class=\"dataframe\">\n",
       "  <thead>\n",
       "    <tr style=\"text-align: right;\">\n",
       "      <th></th>\n",
       "      <th>row ID</th>\n",
       "      <th>기준년도</th>\n",
       "      <th>사업목적분류</th>\n",
       "      <th>사업명</th>\n",
       "      <th>프로그램코드</th>\n",
       "      <th>단위사업코드</th>\n",
       "      <th>세부사업코드</th>\n",
       "      <th>사업부처코드</th>\n",
       "      <th>사업부처</th>\n",
       "      <th>연구개발재원</th>\n",
       "      <th>...</th>\n",
       "      <th>사업화성과건수</th>\n",
       "      <th>중복건수.x</th>\n",
       "      <th>당해년도매출평균</th>\n",
       "      <th>고용창출인원평균</th>\n",
       "      <th>연구분야대분류</th>\n",
       "      <th>연구분야중분류</th>\n",
       "      <th>번호</th>\n",
       "      <th>중복건수.y</th>\n",
       "      <th>정부투자연구비평균</th>\n",
       "      <th>연구개발성격구분(신)</th>\n",
       "    </tr>\n",
       "  </thead>\n",
       "  <tbody>\n",
       "    <tr>\n",
       "      <th>0</th>\n",
       "      <td>Row125362</td>\n",
       "      <td>2007</td>\n",
       "      <td>-</td>\n",
       "      <td>국제핵융합실험로공동개발사업</td>\n",
       "      <td>2.01E+15</td>\n",
       "      <td>2.01E+15</td>\n",
       "      <td>-</td>\n",
       "      <td>21</td>\n",
       "      <td>과학기술부</td>\n",
       "      <td>-</td>\n",
       "      <td>...</td>\n",
       "      <td>NaN</td>\n",
       "      <td>NaN</td>\n",
       "      <td>NaN</td>\n",
       "      <td>NaN</td>\n",
       "      <td>P8</td>\n",
       "      <td>P8</td>\n",
       "      <td>125363</td>\n",
       "      <td>1</td>\n",
       "      <td>1.010000e+10</td>\n",
       "      <td>NaN</td>\n",
       "    </tr>\n",
       "    <tr>\n",
       "      <th>1</th>\n",
       "      <td>Row125363</td>\n",
       "      <td>2007</td>\n",
       "      <td>-</td>\n",
       "      <td>국제핵융합실험로공동개발사업</td>\n",
       "      <td>2.01E+15</td>\n",
       "      <td>2.01E+15</td>\n",
       "      <td>-</td>\n",
       "      <td>21</td>\n",
       "      <td>과학기술부</td>\n",
       "      <td>-</td>\n",
       "      <td>...</td>\n",
       "      <td>NaN</td>\n",
       "      <td>NaN</td>\n",
       "      <td>NaN</td>\n",
       "      <td>NaN</td>\n",
       "      <td>P8</td>\n",
       "      <td>P8</td>\n",
       "      <td>125364</td>\n",
       "      <td>1</td>\n",
       "      <td>6.820000e+08</td>\n",
       "      <td>NaN</td>\n",
       "    </tr>\n",
       "    <tr>\n",
       "      <th>2</th>\n",
       "      <td>Row125364</td>\n",
       "      <td>2007</td>\n",
       "      <td>-</td>\n",
       "      <td>국제핵융합실험로공동개발사업</td>\n",
       "      <td>2.01E+15</td>\n",
       "      <td>2.01E+15</td>\n",
       "      <td>-</td>\n",
       "      <td>21</td>\n",
       "      <td>과학기술부</td>\n",
       "      <td>-</td>\n",
       "      <td>...</td>\n",
       "      <td>NaN</td>\n",
       "      <td>NaN</td>\n",
       "      <td>NaN</td>\n",
       "      <td>NaN</td>\n",
       "      <td>P8</td>\n",
       "      <td>P8</td>\n",
       "      <td>125365</td>\n",
       "      <td>1</td>\n",
       "      <td>3.910000e+08</td>\n",
       "      <td>NaN</td>\n",
       "    </tr>\n",
       "  </tbody>\n",
       "</table>\n",
       "<p>3 rows × 108 columns</p>\n",
       "</div>"
      ],
      "text/plain": [
       "      row ID  기준년도 사업목적분류             사업명    프로그램코드    단위사업코드 세부사업코드 사업부처코드  \\\n",
       "0  Row125362  2007      -  국제핵융합실험로공동개발사업  2.01E+15  2.01E+15      -     21   \n",
       "1  Row125363  2007      -  국제핵융합실험로공동개발사업  2.01E+15  2.01E+15      -     21   \n",
       "2  Row125364  2007      -  국제핵융합실험로공동개발사업  2.01E+15  2.01E+15      -     21   \n",
       "\n",
       "    사업부처 연구개발재원  ... 사업화성과건수 중복건수.x 당해년도매출평균  고용창출인원평균 연구분야대분류 연구분야중분류  \\\n",
       "0  과학기술부      -  ...     NaN    NaN      NaN       NaN      P8      P8   \n",
       "1  과학기술부      -  ...     NaN    NaN      NaN       NaN      P8      P8   \n",
       "2  과학기술부      -  ...     NaN    NaN      NaN       NaN      P8      P8   \n",
       "\n",
       "       번호 중복건수.y     정부투자연구비평균 연구개발성격구분(신)  \n",
       "0  125363      1  1.010000e+10         NaN  \n",
       "1  125364      1  6.820000e+08         NaN  \n",
       "2  125365      1  3.910000e+08         NaN  \n",
       "\n",
       "[3 rows x 108 columns]"
      ]
     },
     "execution_count": 20,
     "metadata": {},
     "output_type": "execute_result"
    }
   ],
   "source": [
    "df3.head(3)"
   ]
  },
  {
   "cell_type": "code",
   "execution_count": 22,
   "metadata": {},
   "outputs": [],
   "source": [
    "#help(pd.concat)"
   ]
  },
  {
   "cell_type": "markdown",
   "metadata": {},
   "source": [
    "## 튜플, 리스트"
   ]
  },
  {
   "cell_type": "code",
   "execution_count": 34,
   "metadata": {},
   "outputs": [
    {
     "name": "stdout",
     "output_type": "stream",
     "text": [
      "1\n"
     ]
    }
   ],
   "source": [
    "a=1\n",
    "print(a)"
   ]
  },
  {
   "cell_type": "code",
   "execution_count": 23,
   "metadata": {},
   "outputs": [],
   "source": [
    "# tuple : 변경불가능, 콘테이너 타입\n",
    "# list  : 변경가능, 콘테이너 타입"
   ]
  },
  {
   "cell_type": "code",
   "execution_count": 36,
   "metadata": {},
   "outputs": [
    {
     "data": {
      "text/plain": [
       "(1, 'apple', 'banana')"
      ]
     },
     "execution_count": 36,
     "metadata": {},
     "output_type": "execute_result"
    }
   ],
   "source": [
    "a = (1,) + ('apple','banana',)\n",
    "a"
   ]
  },
  {
   "cell_type": "code",
   "execution_count": 39,
   "metadata": {},
   "outputs": [
    {
     "data": {
      "text/plain": [
       "(1, 'apple', 'banana', '한국')"
      ]
     },
     "execution_count": 39,
     "metadata": {},
     "output_type": "execute_result"
    }
   ],
   "source": [
    "b = a + ('한국',)\n",
    "b"
   ]
  },
  {
   "cell_type": "code",
   "execution_count": 27,
   "metadata": {},
   "outputs": [
    {
     "data": {
      "text/plain": [
       "tuple"
      ]
     },
     "execution_count": 27,
     "metadata": {},
     "output_type": "execute_result"
    }
   ],
   "source": [
    "type(a)"
   ]
  },
  {
   "cell_type": "code",
   "execution_count": 28,
   "metadata": {},
   "outputs": [
    {
     "data": {
      "text/plain": [
       "list"
      ]
     },
     "execution_count": 28,
     "metadata": {},
     "output_type": "execute_result"
    }
   ],
   "source": [
    "b = [1]\n",
    "type(b)"
   ]
  },
  {
   "cell_type": "code",
   "execution_count": 29,
   "metadata": {},
   "outputs": [
    {
     "data": {
      "text/plain": [
       "[1, 'a']"
      ]
     },
     "execution_count": 29,
     "metadata": {},
     "output_type": "execute_result"
    }
   ],
   "source": [
    "b.append('a')\n",
    "b"
   ]
  },
  {
   "cell_type": "code",
   "execution_count": 30,
   "metadata": {},
   "outputs": [],
   "source": [
    "b.append('apple')"
   ]
  },
  {
   "cell_type": "code",
   "execution_count": 40,
   "metadata": {},
   "outputs": [
    {
     "data": {
      "text/plain": [
       "list"
      ]
     },
     "execution_count": 40,
     "metadata": {},
     "output_type": "execute_result"
    }
   ],
   "source": [
    "a = [ df1,df2 ]\n",
    "type(a)"
   ]
  },
  {
   "cell_type": "code",
   "execution_count": 42,
   "metadata": {},
   "outputs": [
    {
     "data": {
      "text/html": [
       "<div>\n",
       "<style scoped>\n",
       "    .dataframe tbody tr th:only-of-type {\n",
       "        vertical-align: middle;\n",
       "    }\n",
       "\n",
       "    .dataframe tbody tr th {\n",
       "        vertical-align: top;\n",
       "    }\n",
       "\n",
       "    .dataframe thead th {\n",
       "        text-align: right;\n",
       "    }\n",
       "</style>\n",
       "<table border=\"1\" class=\"dataframe\">\n",
       "  <thead>\n",
       "    <tr style=\"text-align: right;\">\n",
       "      <th></th>\n",
       "      <th>row ID</th>\n",
       "      <th>기준년도</th>\n",
       "      <th>사업목적분류</th>\n",
       "      <th>사업명</th>\n",
       "      <th>프로그램코드</th>\n",
       "      <th>단위사업코드</th>\n",
       "      <th>세부사업코드</th>\n",
       "      <th>사업부처코드</th>\n",
       "      <th>사업부처</th>\n",
       "      <th>연구개발재원</th>\n",
       "      <th>...</th>\n",
       "      <th>사업화성과건수</th>\n",
       "      <th>중복건수.x</th>\n",
       "      <th>당해년도매출평균</th>\n",
       "      <th>고용창출인원평균</th>\n",
       "      <th>연구분야대분류</th>\n",
       "      <th>연구분야중분류</th>\n",
       "      <th>번호</th>\n",
       "      <th>중복건수.y</th>\n",
       "      <th>정부투자연구비평균</th>\n",
       "      <th>연구개발성격구분(신)</th>\n",
       "    </tr>\n",
       "  </thead>\n",
       "  <tbody>\n",
       "    <tr>\n",
       "      <th>0</th>\n",
       "      <td>Row125362</td>\n",
       "      <td>2007</td>\n",
       "      <td>-</td>\n",
       "      <td>국제핵융합실험로공동개발사업</td>\n",
       "      <td>2.01E+15</td>\n",
       "      <td>2.01E+15</td>\n",
       "      <td>-</td>\n",
       "      <td>21</td>\n",
       "      <td>과학기술부</td>\n",
       "      <td>-</td>\n",
       "      <td>...</td>\n",
       "      <td>NaN</td>\n",
       "      <td>NaN</td>\n",
       "      <td>NaN</td>\n",
       "      <td>NaN</td>\n",
       "      <td>P8</td>\n",
       "      <td>P8</td>\n",
       "      <td>125363</td>\n",
       "      <td>1</td>\n",
       "      <td>10100000000</td>\n",
       "      <td>NaN</td>\n",
       "    </tr>\n",
       "  </tbody>\n",
       "</table>\n",
       "<p>1 rows × 108 columns</p>\n",
       "</div>"
      ],
      "text/plain": [
       "      row ID  기준년도 사업목적분류             사업명    프로그램코드    단위사업코드 세부사업코드 사업부처코드  \\\n",
       "0  Row125362  2007      -  국제핵융합실험로공동개발사업  2.01E+15  2.01E+15      -     21   \n",
       "\n",
       "    사업부처 연구개발재원  ... 사업화성과건수 중복건수.x 당해년도매출평균  고용창출인원평균 연구분야대분류 연구분야중분류  \\\n",
       "0  과학기술부      -  ...     NaN    NaN      NaN       NaN      P8      P8   \n",
       "\n",
       "       번호 중복건수.y    정부투자연구비평균 연구개발성격구분(신)  \n",
       "0  125363      1  10100000000         NaN  \n",
       "\n",
       "[1 rows x 108 columns]"
      ]
     },
     "execution_count": 42,
     "metadata": {},
     "output_type": "execute_result"
    }
   ],
   "source": [
    "a[0].head(1)"
   ]
  },
  {
   "cell_type": "code",
   "execution_count": 43,
   "metadata": {},
   "outputs": [
    {
     "data": {
      "text/html": [
       "<div>\n",
       "<style scoped>\n",
       "    .dataframe tbody tr th:only-of-type {\n",
       "        vertical-align: middle;\n",
       "    }\n",
       "\n",
       "    .dataframe tbody tr th {\n",
       "        vertical-align: top;\n",
       "    }\n",
       "\n",
       "    .dataframe thead th {\n",
       "        text-align: right;\n",
       "    }\n",
       "</style>\n",
       "<table border=\"1\" class=\"dataframe\">\n",
       "  <thead>\n",
       "    <tr style=\"text-align: right;\">\n",
       "      <th></th>\n",
       "      <th>row ID</th>\n",
       "      <th>기준년도</th>\n",
       "      <th>사업목적분류</th>\n",
       "      <th>사업명</th>\n",
       "      <th>프로그램코드</th>\n",
       "      <th>단위사업코드</th>\n",
       "      <th>세부사업코드</th>\n",
       "      <th>사업부처코드</th>\n",
       "      <th>사업부처</th>\n",
       "      <th>연구개발재원</th>\n",
       "      <th>...</th>\n",
       "      <th>사업화성과건수</th>\n",
       "      <th>중복건수.x</th>\n",
       "      <th>당해년도매출평균</th>\n",
       "      <th>고용창출인원평균</th>\n",
       "      <th>연구분야대분류</th>\n",
       "      <th>연구분야중분류</th>\n",
       "      <th>번호</th>\n",
       "      <th>중복건수.y</th>\n",
       "      <th>정부투자연구비평균</th>\n",
       "      <th>연구개발성격구분(신)</th>\n",
       "    </tr>\n",
       "  </thead>\n",
       "  <tbody>\n",
       "    <tr>\n",
       "      <th>0</th>\n",
       "      <td>Row252546</td>\n",
       "      <td>2010</td>\n",
       "      <td>-</td>\n",
       "      <td>공공복지안전연구사업</td>\n",
       "      <td>-</td>\n",
       "      <td>-</td>\n",
       "      <td>-</td>\n",
       "      <td>N15</td>\n",
       "      <td>교육과학기술부</td>\n",
       "      <td>일반회계</td>\n",
       "      <td>...</td>\n",
       "      <td>NaN</td>\n",
       "      <td>NaN</td>\n",
       "      <td>NaN</td>\n",
       "      <td>NaN</td>\n",
       "      <td>G0</td>\n",
       "      <td>G05</td>\n",
       "      <td>252547</td>\n",
       "      <td>1</td>\n",
       "      <td>150000000.0</td>\n",
       "      <td>1아이디어개발</td>\n",
       "    </tr>\n",
       "  </tbody>\n",
       "</table>\n",
       "<p>1 rows × 108 columns</p>\n",
       "</div>"
      ],
      "text/plain": [
       "      row ID  기준년도 사업목적분류         사업명 프로그램코드 단위사업코드 세부사업코드 사업부처코드     사업부처  \\\n",
       "0  Row252546  2010      -  공공복지안전연구사업      -      -      -    N15  교육과학기술부   \n",
       "\n",
       "  연구개발재원  ... 사업화성과건수 중복건수.x 당해년도매출평균  고용창출인원평균 연구분야대분류 연구분야중분류      번호  \\\n",
       "0   일반회계  ...     NaN    NaN      NaN       NaN      G0     G05  252547   \n",
       "\n",
       "  중복건수.y    정부투자연구비평균 연구개발성격구분(신)  \n",
       "0      1  150000000.0     1아이디어개발  \n",
       "\n",
       "[1 rows x 108 columns]"
      ]
     },
     "execution_count": 43,
     "metadata": {},
     "output_type": "execute_result"
    }
   ],
   "source": [
    "a[1].head(1)"
   ]
  },
  {
   "cell_type": "code",
   "execution_count": 55,
   "metadata": {},
   "outputs": [],
   "source": [
    "# 개수를 보여달라. 1개만 보여달라. 즉, 인덱스 0번째의 값\n",
    "aa = df1.head(3)"
   ]
  },
  {
   "cell_type": "code",
   "execution_count": 57,
   "metadata": {},
   "outputs": [
    {
     "data": {
      "text/plain": [
       "pandas.core.frame.DataFrame"
      ]
     },
     "execution_count": 57,
     "metadata": {},
     "output_type": "execute_result"
    }
   ],
   "source": [
    "type(aa)"
   ]
  },
  {
   "cell_type": "code",
   "execution_count": 54,
   "metadata": {},
   "outputs": [
    {
     "name": "stdout",
     "output_type": "stream",
     "text": [
      "Help on method head in module pandas.core.generic:\n",
      "\n",
      "head(n: int = 5) -> ~FrameOrSeries method of pandas.core.frame.DataFrame instance\n",
      "    Return the first `n` rows.\n",
      "    \n",
      "    This function returns the first `n` rows for the object based\n",
      "    on position. It is useful for quickly testing if your object\n",
      "    has the right type of data in it.\n",
      "    \n",
      "    For negative values of `n`, this function returns all rows except\n",
      "    the last `n` rows, equivalent to ``df[:-n]``.\n",
      "    \n",
      "    Parameters\n",
      "    ----------\n",
      "    n : int, default 5\n",
      "        Number of rows to select.\n",
      "    \n",
      "    Returns\n",
      "    -------\n",
      "    same type as caller\n",
      "        The first `n` rows of the caller object.\n",
      "    \n",
      "    See Also\n",
      "    --------\n",
      "    DataFrame.tail: Returns the last `n` rows.\n",
      "    \n",
      "    Examples\n",
      "    --------\n",
      "    >>> df = pd.DataFrame({'animal': ['alligator', 'bee', 'falcon', 'lion',\n",
      "    ...                    'monkey', 'parrot', 'shark', 'whale', 'zebra']})\n",
      "    >>> df\n",
      "          animal\n",
      "    0  alligator\n",
      "    1        bee\n",
      "    2     falcon\n",
      "    3       lion\n",
      "    4     monkey\n",
      "    5     parrot\n",
      "    6      shark\n",
      "    7      whale\n",
      "    8      zebra\n",
      "    \n",
      "    Viewing the first 5 lines\n",
      "    \n",
      "    >>> df.head()\n",
      "          animal\n",
      "    0  alligator\n",
      "    1        bee\n",
      "    2     falcon\n",
      "    3       lion\n",
      "    4     monkey\n",
      "    \n",
      "    Viewing the first `n` lines (three in this case)\n",
      "    \n",
      "    >>> df.head(3)\n",
      "          animal\n",
      "    0  alligator\n",
      "    1        bee\n",
      "    2     falcon\n",
      "    \n",
      "    For negative values of `n`\n",
      "    \n",
      "    >>> df.head(-3)\n",
      "          animal\n",
      "    0  alligator\n",
      "    1        bee\n",
      "    2     falcon\n",
      "    3       lion\n",
      "    4     monkey\n",
      "    5     parrot\n",
      "\n"
     ]
    }
   ],
   "source": [
    "help(df1.head)"
   ]
  },
  {
   "cell_type": "code",
   "execution_count": 52,
   "metadata": {},
   "outputs": [
    {
     "data": {
      "text/plain": [
       "row ID              Row125362\n",
       "기준년도                     2007\n",
       "사업목적분류                      -\n",
       "사업명            국제핵융합실험로공동개발사업\n",
       "프로그램코드               2.01E+15\n",
       "                    ...      \n",
       "연구분야중분류                    P8\n",
       "번호                     125363\n",
       "중복건수.y                      1\n",
       "정부투자연구비평균         10100000000\n",
       "연구개발성격구분(신)               NaN\n",
       "Name: 0, Length: 108, dtype: object"
      ]
     },
     "execution_count": 52,
     "metadata": {},
     "output_type": "execute_result"
    }
   ],
   "source": [
    "df1.loc[0,:]"
   ]
  },
  {
   "cell_type": "code",
   "execution_count": 50,
   "metadata": {},
   "outputs": [
    {
     "name": "stdout",
     "output_type": "stream",
     "text": [
      "Row125362\n",
      "2007\n",
      "-\n",
      "국제핵융합실험로공동개발사업\n",
      "2.01E+15\n",
      "2.01E+15\n",
      "-\n",
      "21\n",
      "과학기술부\n",
      "-\n"
     ]
    }
   ],
   "source": [
    "a1 = df1.values.tolist()\n",
    "\n",
    "for i in range(10):\n",
    "    print(a1[0][i])"
   ]
  },
  {
   "cell_type": "code",
   "execution_count": null,
   "metadata": {},
   "outputs": [],
   "source": []
  }
 ],
 "metadata": {
  "kernelspec": {
   "display_name": "Python 3",
   "language": "python",
   "name": "python3"
  },
  "language_info": {
   "codemirror_mode": {
    "name": "ipython",
    "version": 3
   },
   "file_extension": ".py",
   "mimetype": "text/x-python",
   "name": "python",
   "nbconvert_exporter": "python",
   "pygments_lexer": "ipython3",
   "version": "3.7.7"
  },
  "toc-autonumbering": true
 },
 "nbformat": 4,
 "nbformat_minor": 4
}
