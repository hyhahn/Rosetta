{
 "cells": [
  {
   "cell_type": "markdown",
   "metadata": {},
   "source": [
    "# Reference Row Filter"
   ]
  },
  {
   "cell_type": "markdown",
   "metadata": {},
   "source": [
    "- 참조조건에 따라서 데이터를 필터링하는 방법\n",
    "- 참조조건은 여러개의 조건을 설정할 수 있음"
   ]
  },
  {
   "cell_type": "code",
   "execution_count": 1,
   "metadata": {},
   "outputs": [],
   "source": [
    "# 임포트 판다스\n",
    "\n",
    "import pandas as pd\n",
    "from pandas import DataFrame, Series"
   ]
  },
  {
   "cell_type": "markdown",
   "metadata": {},
   "source": [
    "## 엑셀파일 불러오기 "
   ]
  },
  {
   "cell_type": "code",
   "execution_count": 9,
   "metadata": {},
   "outputs": [],
   "source": [
    "import time\n",
    "\n",
    "#filename = '예제.csv'\n",
    "filename = \"/Users/bk/Downloads/200210 projects_commercial_mean(사업화내용제외).txt\"\n",
    "\n"
   ]
  },
  {
   "cell_type": "code",
   "execution_count": 11,
   "metadata": {},
   "outputs": [
    {
     "name": "stdout",
     "output_type": "stream",
     "text": [
      "52.70 seconds have passed\n"
     ]
    }
   ],
   "source": [
    "t1 = time.time()\n",
    "df = pd.read_csv(filename, sep='\\t', engine='python', encoding='cp949')\n",
    "#df = pd.read_table(filename, sep=',', encoding='cp949')\n",
    "df.head(3)\n",
    "\n",
    "t2 = time.time() - t1\n",
    "\n",
    "print(f\"{t2:.2f} seconds have passed\")\n",
    "#70.31 seconds have passed (note book ... )\n",
    "# 예제.csv 파일 불러오기 : 13.42 seconds have passed\n",
    "# 200210 projects_commercial_mean(사업화내용제외).txt .. 52.70 seconds have passed"
   ]
  },
  {
   "cell_type": "code",
   "execution_count": 12,
   "metadata": {},
   "outputs": [
    {
     "data": {
      "text/html": [
       "<div>\n",
       "<style scoped>\n",
       "    .dataframe tbody tr th:only-of-type {\n",
       "        vertical-align: middle;\n",
       "    }\n",
       "\n",
       "    .dataframe tbody tr th {\n",
       "        vertical-align: top;\n",
       "    }\n",
       "\n",
       "    .dataframe thead th {\n",
       "        text-align: right;\n",
       "    }\n",
       "</style>\n",
       "<table border=\"1\" class=\"dataframe\">\n",
       "  <thead>\n",
       "    <tr style=\"text-align: right;\">\n",
       "      <th></th>\n",
       "      <th>기준년도</th>\n",
       "      <th>사업목적분류</th>\n",
       "      <th>사업명</th>\n",
       "      <th>프로그램코드</th>\n",
       "      <th>단위사업코드</th>\n",
       "      <th>세부사업코드</th>\n",
       "      <th>사업부처코드</th>\n",
       "      <th>사업부처</th>\n",
       "      <th>연구개발재원</th>\n",
       "      <th>계속과제여부구분</th>\n",
       "      <th>...</th>\n",
       "      <th>당해년도매출액</th>\n",
       "      <th>사업화성과건수</th>\n",
       "      <th>중복건수.x</th>\n",
       "      <th>당해년도매출평균</th>\n",
       "      <th>고용창출인원평균</th>\n",
       "      <th>연구분야대분류</th>\n",
       "      <th>연구분야중분류</th>\n",
       "      <th>번호</th>\n",
       "      <th>중복건수.y</th>\n",
       "      <th>정부투자연구비평균</th>\n",
       "    </tr>\n",
       "  </thead>\n",
       "  <tbody>\n",
       "    <tr>\n",
       "      <th>0</th>\n",
       "      <td>2003.0</td>\n",
       "      <td>-</td>\n",
       "      <td>9개지역산업진흥(지연전용R&amp;D)</td>\n",
       "      <td>2.30E+15</td>\n",
       "      <td>2.30E+15</td>\n",
       "      <td>-</td>\n",
       "      <td>38</td>\n",
       "      <td>산업자원부</td>\n",
       "      <td>-</td>\n",
       "      <td>-</td>\n",
       "      <td>...</td>\n",
       "      <td>NaN</td>\n",
       "      <td>NaN</td>\n",
       "      <td>NaN</td>\n",
       "      <td>NaN</td>\n",
       "      <td>NaN</td>\n",
       "      <td>F</td>\n",
       "      <td>F</td>\n",
       "      <td>1</td>\n",
       "      <td>1</td>\n",
       "      <td>100000000.0</td>\n",
       "    </tr>\n",
       "    <tr>\n",
       "      <th>1</th>\n",
       "      <td>2003.0</td>\n",
       "      <td>-</td>\n",
       "      <td>9개지역산업진흥(지연전용R&amp;D)</td>\n",
       "      <td>2.30E+15</td>\n",
       "      <td>2.30E+15</td>\n",
       "      <td>-</td>\n",
       "      <td>38</td>\n",
       "      <td>산업자원부</td>\n",
       "      <td>-</td>\n",
       "      <td>-</td>\n",
       "      <td>...</td>\n",
       "      <td>NaN</td>\n",
       "      <td>NaN</td>\n",
       "      <td>NaN</td>\n",
       "      <td>NaN</td>\n",
       "      <td>NaN</td>\n",
       "      <td>I</td>\n",
       "      <td>I</td>\n",
       "      <td>2</td>\n",
       "      <td>1</td>\n",
       "      <td>90000000.0</td>\n",
       "    </tr>\n",
       "    <tr>\n",
       "      <th>2</th>\n",
       "      <td>2003.0</td>\n",
       "      <td>-</td>\n",
       "      <td>9개지역산업진흥(지연전용R&amp;D)</td>\n",
       "      <td>2.30E+15</td>\n",
       "      <td>2.30E+15</td>\n",
       "      <td>-</td>\n",
       "      <td>38</td>\n",
       "      <td>산업자원부</td>\n",
       "      <td>-</td>\n",
       "      <td>-</td>\n",
       "      <td>...</td>\n",
       "      <td>NaN</td>\n",
       "      <td>NaN</td>\n",
       "      <td>NaN</td>\n",
       "      <td>NaN</td>\n",
       "      <td>NaN</td>\n",
       "      <td>I</td>\n",
       "      <td>I</td>\n",
       "      <td>3</td>\n",
       "      <td>1</td>\n",
       "      <td>70000000.0</td>\n",
       "    </tr>\n",
       "  </tbody>\n",
       "</table>\n",
       "<p>3 rows × 106 columns</p>\n",
       "</div>"
      ],
      "text/plain": [
       "     기준년도 사업목적분류                사업명    프로그램코드    단위사업코드 세부사업코드 사업부처코드   사업부처  \\\n",
       "0  2003.0      -  9개지역산업진흥(지연전용R&D)  2.30E+15  2.30E+15      -     38  산업자원부   \n",
       "1  2003.0      -  9개지역산업진흥(지연전용R&D)  2.30E+15  2.30E+15      -     38  산업자원부   \n",
       "2  2003.0      -  9개지역산업진흥(지연전용R&D)  2.30E+15  2.30E+15      -     38  산업자원부   \n",
       "\n",
       "  연구개발재원 계속과제여부구분  ... 당해년도매출액 사업화성과건수 중복건수.x 당해년도매출평균 고용창출인원평균 연구분야대분류  \\\n",
       "0      -        -  ...     NaN     NaN    NaN      NaN      NaN       F   \n",
       "1      -        -  ...     NaN     NaN    NaN      NaN      NaN       I   \n",
       "2      -        -  ...     NaN     NaN    NaN      NaN      NaN       I   \n",
       "\n",
       "  연구분야중분류 번호 중복건수.y    정부투자연구비평균  \n",
       "0       F  1      1  100000000.0  \n",
       "1       I  2      1   90000000.0  \n",
       "2       I  3      1   70000000.0  \n",
       "\n",
       "[3 rows x 106 columns]"
      ]
     },
     "execution_count": 12,
     "metadata": {},
     "output_type": "execute_result"
    }
   ],
   "source": [
    "df.head(3)"
   ]
  },
  {
   "cell_type": "code",
   "execution_count": 13,
   "metadata": {},
   "outputs": [
    {
     "name": "stdout",
     "output_type": "stream",
     "text": [
      "<class 'pandas.core.frame.DataFrame'>\n",
      "RangeIndex: 871344 entries, 0 to 871343\n",
      "Columns: 106 entries, 기준년도 to 정부투자연구비평균\n",
      "dtypes: float64(34), int64(11), object(61)\n",
      "memory usage: 704.7+ MB\n"
     ]
    }
   ],
   "source": [
    "df.info()"
   ]
  },
  {
   "cell_type": "markdown",
   "metadata": {},
   "source": [
    "## 조건이 하나일때 "
   ]
  },
  {
   "cell_type": "code",
   "execution_count": 39,
   "metadata": {},
   "outputs": [],
   "source": [
    "col1 = \"부처자제분류_대분류\" # 원테이터가 오타있음 : 자제, 자체(x)\n",
    "condition1 = \"원천기술개발사업\""
   ]
  },
  {
   "cell_type": "code",
   "execution_count": 40,
   "metadata": {},
   "outputs": [
    {
     "data": {
      "text/plain": [
       "0         False\n",
       "1         False\n",
       "2         False\n",
       "3         False\n",
       "4         False\n",
       "          ...  \n",
       "871339    False\n",
       "871340    False\n",
       "871341    False\n",
       "871342    False\n",
       "871343    False\n",
       "Name: 부처자제분류_대분류, Length: 871344, dtype: bool"
      ]
     },
     "execution_count": 40,
     "metadata": {},
     "output_type": "execute_result"
    }
   ],
   "source": [
    "con1 = df[\"부처자제분류_대분류\"]==condition1\n",
    "con1"
   ]
  },
  {
   "cell_type": "code",
   "execution_count": 41,
   "metadata": {},
   "outputs": [
    {
     "data": {
      "text/plain": [
       "(14367, 106)"
      ]
     },
     "execution_count": 41,
     "metadata": {},
     "output_type": "execute_result"
    }
   ],
   "source": [
    "df[con1].shape"
   ]
  },
  {
   "cell_type": "markdown",
   "metadata": {},
   "source": [
    "## 조건이 여러개 일 경우"
   ]
  },
  {
   "cell_type": "code",
   "execution_count": 50,
   "metadata": {},
   "outputs": [],
   "source": [
    "con2 = df[\"부처자제분류_대분류\"]== '-'"
   ]
  },
  {
   "cell_type": "code",
   "execution_count": 51,
   "metadata": {},
   "outputs": [],
   "source": [
    "con3 = df['부처자제분류_대분류']=='바이오ㆍ의료'"
   ]
  },
  {
   "cell_type": "code",
   "execution_count": 53,
   "metadata": {},
   "outputs": [
    {
     "data": {
      "text/plain": [
       "(441969, 106)"
      ]
     },
     "execution_count": 53,
     "metadata": {},
     "output_type": "execute_result"
    }
   ],
   "source": [
    "df[con1 | con2 | con3].shape"
   ]
  },
  {
   "cell_type": "code",
   "execution_count": 55,
   "metadata": {},
   "outputs": [],
   "source": [
    "df[\"부처자제분류_대분류\"].value_counts().to_csv('1.txt')"
   ]
  },
  {
   "cell_type": "code",
   "execution_count": null,
   "metadata": {},
   "outputs": [],
   "source": []
  }
 ],
 "metadata": {
  "kernelspec": {
   "display_name": "Python 3",
   "language": "python",
   "name": "python3"
  },
  "language_info": {
   "codemirror_mode": {
    "name": "ipython",
    "version": 3
   },
   "file_extension": ".py",
   "mimetype": "text/x-python",
   "name": "python",
   "nbconvert_exporter": "python",
   "pygments_lexer": "ipython3",
   "version": "3.7.7"
  },
  "toc-autonumbering": true
 },
 "nbformat": 4,
 "nbformat_minor": 4
}
