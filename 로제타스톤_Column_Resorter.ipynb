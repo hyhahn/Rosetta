{
 "cells": [
  {
   "cell_type": "markdown",
   "metadata": {},
   "source": [
    "# Column Resorter"
   ]
  },
  {
   "cell_type": "markdown",
   "metadata": {},
   "source": [
    "- 컬럼을 원하는대로 배치하는 방법 (2020.5.12)"
   ]
  },
  {
   "cell_type": "markdown",
   "metadata": {},
   "source": [
    "## 기본"
   ]
  },
  {
   "cell_type": "code",
   "execution_count": 1,
   "metadata": {},
   "outputs": [],
   "source": [
    "# 임포트 판다스\n",
    "\n",
    "import pandas as pd\n",
    "from pandas import DataFrame, Series"
   ]
  },
  {
   "cell_type": "code",
   "execution_count": 36,
   "metadata": {},
   "outputs": [
    {
     "data": {
      "text/html": [
       "<div>\n",
       "<style scoped>\n",
       "    .dataframe tbody tr th:only-of-type {\n",
       "        vertical-align: middle;\n",
       "    }\n",
       "\n",
       "    .dataframe tbody tr th {\n",
       "        vertical-align: top;\n",
       "    }\n",
       "\n",
       "    .dataframe thead th {\n",
       "        text-align: right;\n",
       "    }\n",
       "</style>\n",
       "<table border=\"1\" class=\"dataframe\">\n",
       "  <thead>\n",
       "    <tr style=\"text-align: right;\">\n",
       "      <th></th>\n",
       "      <th>fruit</th>\n",
       "      <th>a-price</th>\n",
       "    </tr>\n",
       "  </thead>\n",
       "  <tbody>\n",
       "    <tr>\n",
       "      <th>0</th>\n",
       "      <td>apple</td>\n",
       "      <td>10</td>\n",
       "    </tr>\n",
       "    <tr>\n",
       "      <th>1</th>\n",
       "      <td>banana</td>\n",
       "      <td>20</td>\n",
       "    </tr>\n",
       "  </tbody>\n",
       "</table>\n",
       "</div>"
      ],
      "text/plain": [
       "    fruit  a-price\n",
       "0   apple       10\n",
       "1  banana       20"
      ]
     },
     "execution_count": 36,
     "metadata": {},
     "output_type": "execute_result"
    }
   ],
   "source": [
    "df = DataFrame( {'fruit':['apple','banana'], 'a-price':[10,20]})\n",
    "df"
   ]
  },
  {
   "cell_type": "code",
   "execution_count": 37,
   "metadata": {},
   "outputs": [
    {
     "data": {
      "text/plain": [
       "['fruit', 'a-price']"
      ]
     },
     "execution_count": 37,
     "metadata": {},
     "output_type": "execute_result"
    }
   ],
   "source": [
    "names_all = df.columns.tolist()\n",
    "names_all"
   ]
  },
  {
   "cell_type": "code",
   "execution_count": 38,
   "metadata": {},
   "outputs": [
    {
     "data": {
      "text/plain": [
       "['a-price', 'fruit']"
      ]
     },
     "execution_count": 38,
     "metadata": {},
     "output_type": "execute_result"
    }
   ],
   "source": [
    "names_all2 = sorted(names_all)\n",
    "names_all2"
   ]
  },
  {
   "cell_type": "code",
   "execution_count": 39,
   "metadata": {},
   "outputs": [
    {
     "data": {
      "text/html": [
       "<div>\n",
       "<style scoped>\n",
       "    .dataframe tbody tr th:only-of-type {\n",
       "        vertical-align: middle;\n",
       "    }\n",
       "\n",
       "    .dataframe tbody tr th {\n",
       "        vertical-align: top;\n",
       "    }\n",
       "\n",
       "    .dataframe thead th {\n",
       "        text-align: right;\n",
       "    }\n",
       "</style>\n",
       "<table border=\"1\" class=\"dataframe\">\n",
       "  <thead>\n",
       "    <tr style=\"text-align: right;\">\n",
       "      <th></th>\n",
       "      <th>a-price</th>\n",
       "      <th>fruit</th>\n",
       "    </tr>\n",
       "  </thead>\n",
       "  <tbody>\n",
       "    <tr>\n",
       "      <th>0</th>\n",
       "      <td>10</td>\n",
       "      <td>apple</td>\n",
       "    </tr>\n",
       "    <tr>\n",
       "      <th>1</th>\n",
       "      <td>20</td>\n",
       "      <td>banana</td>\n",
       "    </tr>\n",
       "  </tbody>\n",
       "</table>\n",
       "</div>"
      ],
      "text/plain": [
       "   a-price   fruit\n",
       "0       10   apple\n",
       "1       20  banana"
      ]
     },
     "execution_count": 39,
     "metadata": {},
     "output_type": "execute_result"
    }
   ],
   "source": [
    "df[names_all2]"
   ]
  },
  {
   "cell_type": "markdown",
   "metadata": {},
   "source": [
    "#  숙제 : 리스트를 조작하는 함수 \n",
    "\n",
    "- 입력 : 컬럼명, 번호\n",
    "- 기능 : 입력한 컬럼명을 지정한 번호에 위치시킨 리스트를 반환하기\n"
   ]
  },
  {
   "cell_type": "code",
   "execution_count": 71,
   "metadata": {},
   "outputs": [],
   "source": [
    "def homework1(namelist = [], name='', no=0):\n",
    "    \"\"\"\n",
    "    주석 ......\n",
    "    \n",
    "    \"\"\"\n",
    "    if name in namelist:\n",
    "        pass \n",
    "    else:\n",
    "        if len(namelist) > no : \n",
    "            namelist.insert(no, name)\n",
    "        else:\n",
    "            namelist.append(name)\n",
    "    \n",
    "    return namelist\n",
    "    "
   ]
  },
  {
   "cell_type": "code",
   "execution_count": 72,
   "metadata": {},
   "outputs": [
    {
     "data": {
      "text/plain": [
       "['연구개발', 'fruit', 'a-price']"
      ]
     },
     "execution_count": 72,
     "metadata": {},
     "output_type": "execute_result"
    }
   ],
   "source": [
    "names = ['fruit', 'a-price']\n",
    "\n",
    "names2 = homework1(names, '연구개발', 0)\n",
    "names"
   ]
  },
  {
   "cell_type": "markdown",
   "metadata": {
    "toc-hr-collapsed": true
   },
   "source": [
    "## 엑셀파일 불러오기 "
   ]
  },
  {
   "cell_type": "code",
   "execution_count": 73,
   "metadata": {},
   "outputs": [],
   "source": [
    "df = pd.read_excel('/Users/bk/Desktop/Desktop1.xlsx')"
   ]
  },
  {
   "cell_type": "code",
   "execution_count": 74,
   "metadata": {},
   "outputs": [
    {
     "data": {
      "text/html": [
       "<div>\n",
       "<style scoped>\n",
       "    .dataframe tbody tr th:only-of-type {\n",
       "        vertical-align: middle;\n",
       "    }\n",
       "\n",
       "    .dataframe tbody tr th {\n",
       "        vertical-align: top;\n",
       "    }\n",
       "\n",
       "    .dataframe thead th {\n",
       "        text-align: right;\n",
       "    }\n",
       "</style>\n",
       "<table border=\"1\" class=\"dataframe\">\n",
       "  <thead>\n",
       "    <tr style=\"text-align: right;\">\n",
       "      <th></th>\n",
       "      <th>row ID</th>\n",
       "      <th>기준년도</th>\n",
       "      <th>사업목적분류</th>\n",
       "      <th>사업명</th>\n",
       "      <th>프로그램코드</th>\n",
       "      <th>단위사업코드</th>\n",
       "      <th>세부사업코드</th>\n",
       "      <th>사업부처코드</th>\n",
       "      <th>사업부처</th>\n",
       "      <th>연구개발재원</th>\n",
       "      <th>...</th>\n",
       "      <th>사업화성과건수</th>\n",
       "      <th>중복건수.x</th>\n",
       "      <th>당해년도매출평균</th>\n",
       "      <th>고용창출인원평균</th>\n",
       "      <th>연구분야대분류</th>\n",
       "      <th>연구분야중분류</th>\n",
       "      <th>번호</th>\n",
       "      <th>중복건수.y</th>\n",
       "      <th>정부투자연구비평균</th>\n",
       "      <th>연구개발성격구분(신)</th>\n",
       "    </tr>\n",
       "  </thead>\n",
       "  <tbody>\n",
       "    <tr>\n",
       "      <th>0</th>\n",
       "      <td>Row125362</td>\n",
       "      <td>2007</td>\n",
       "      <td>-</td>\n",
       "      <td>국제핵융합실험로공동개발사업</td>\n",
       "      <td>2.01E+15</td>\n",
       "      <td>2.01E+15</td>\n",
       "      <td>-</td>\n",
       "      <td>21</td>\n",
       "      <td>과학기술부</td>\n",
       "      <td>-</td>\n",
       "      <td>...</td>\n",
       "      <td>NaN</td>\n",
       "      <td>NaN</td>\n",
       "      <td>NaN</td>\n",
       "      <td>NaN</td>\n",
       "      <td>P8</td>\n",
       "      <td>P8</td>\n",
       "      <td>125363</td>\n",
       "      <td>1</td>\n",
       "      <td>10100000000</td>\n",
       "      <td>NaN</td>\n",
       "    </tr>\n",
       "    <tr>\n",
       "      <th>1</th>\n",
       "      <td>Row125363</td>\n",
       "      <td>2007</td>\n",
       "      <td>-</td>\n",
       "      <td>국제핵융합실험로공동개발사업</td>\n",
       "      <td>2.01E+15</td>\n",
       "      <td>2.01E+15</td>\n",
       "      <td>-</td>\n",
       "      <td>21</td>\n",
       "      <td>과학기술부</td>\n",
       "      <td>-</td>\n",
       "      <td>...</td>\n",
       "      <td>NaN</td>\n",
       "      <td>NaN</td>\n",
       "      <td>NaN</td>\n",
       "      <td>NaN</td>\n",
       "      <td>P8</td>\n",
       "      <td>P8</td>\n",
       "      <td>125364</td>\n",
       "      <td>1</td>\n",
       "      <td>682000000</td>\n",
       "      <td>NaN</td>\n",
       "    </tr>\n",
       "    <tr>\n",
       "      <th>2</th>\n",
       "      <td>Row125364</td>\n",
       "      <td>2007</td>\n",
       "      <td>-</td>\n",
       "      <td>국제핵융합실험로공동개발사업</td>\n",
       "      <td>2.01E+15</td>\n",
       "      <td>2.01E+15</td>\n",
       "      <td>-</td>\n",
       "      <td>21</td>\n",
       "      <td>과학기술부</td>\n",
       "      <td>-</td>\n",
       "      <td>...</td>\n",
       "      <td>NaN</td>\n",
       "      <td>NaN</td>\n",
       "      <td>NaN</td>\n",
       "      <td>NaN</td>\n",
       "      <td>P8</td>\n",
       "      <td>P8</td>\n",
       "      <td>125365</td>\n",
       "      <td>1</td>\n",
       "      <td>391000000</td>\n",
       "      <td>NaN</td>\n",
       "    </tr>\n",
       "  </tbody>\n",
       "</table>\n",
       "<p>3 rows × 108 columns</p>\n",
       "</div>"
      ],
      "text/plain": [
       "      row ID  기준년도 사업목적분류             사업명    프로그램코드    단위사업코드 세부사업코드 사업부처코드  \\\n",
       "0  Row125362  2007      -  국제핵융합실험로공동개발사업  2.01E+15  2.01E+15      -     21   \n",
       "1  Row125363  2007      -  국제핵융합실험로공동개발사업  2.01E+15  2.01E+15      -     21   \n",
       "2  Row125364  2007      -  국제핵융합실험로공동개발사업  2.01E+15  2.01E+15      -     21   \n",
       "\n",
       "    사업부처 연구개발재원  ... 사업화성과건수 중복건수.x 당해년도매출평균  고용창출인원평균 연구분야대분류 연구분야중분류  \\\n",
       "0  과학기술부      -  ...     NaN    NaN      NaN       NaN      P8      P8   \n",
       "1  과학기술부      -  ...     NaN    NaN      NaN       NaN      P8      P8   \n",
       "2  과학기술부      -  ...     NaN    NaN      NaN       NaN      P8      P8   \n",
       "\n",
       "       번호 중복건수.y    정부투자연구비평균 연구개발성격구분(신)  \n",
       "0  125363      1  10100000000         NaN  \n",
       "1  125364      1    682000000         NaN  \n",
       "2  125365      1    391000000         NaN  \n",
       "\n",
       "[3 rows x 108 columns]"
      ]
     },
     "execution_count": 74,
     "metadata": {},
     "output_type": "execute_result"
    }
   ],
   "source": [
    "df.head(3)"
   ]
  },
  {
   "cell_type": "code",
   "execution_count": 75,
   "metadata": {},
   "outputs": [
    {
     "data": {
      "text/plain": [
       "Index(['row ID', '기준년도', '사업목적분류', '사업명', '프로그램코드', '단위사업코드', '세부사업코드',\n",
       "       '사업부처코드', '사업부처', '연구개발재원',\n",
       "       ...\n",
       "       '사업화성과건수', '중복건수.x', '당해년도매출평균', '고용창출인원평균', '연구분야대분류', '연구분야중분류', '번호',\n",
       "       '중복건수.y', '정부투자연구비평균', '연구개발성격구분(신)'],\n",
       "      dtype='object', length=108)"
      ]
     },
     "execution_count": 75,
     "metadata": {},
     "output_type": "execute_result"
    }
   ],
   "source": [
    "df.columns"
   ]
  },
  {
   "cell_type": "code",
   "execution_count": 77,
   "metadata": {},
   "outputs": [],
   "source": [
    "#for each in df.columns:\n",
    "#    print(each)"
   ]
  },
  {
   "cell_type": "code",
   "execution_count": null,
   "metadata": {},
   "outputs": [],
   "source": [
    "'연구개발성격구분(신)'"
   ]
  },
  {
   "cell_type": "markdown",
   "metadata": {},
   "source": [
    "### 컬럼이름을 리스트로 반환"
   ]
  },
  {
   "cell_type": "code",
   "execution_count": 23,
   "metadata": {},
   "outputs": [],
   "source": [
    "names = df.columns.tolist()"
   ]
  },
  {
   "cell_type": "code",
   "execution_count": 20,
   "metadata": {},
   "outputs": [
    {
     "data": {
      "text/plain": [
       "['row ID',\n",
       " '사업목적분류',\n",
       " '사업명',\n",
       " '프로그램코드',\n",
       " '단위사업코드',\n",
       " '세부사업코드',\n",
       " '사업부처코드',\n",
       " '사업부처',\n",
       " '연구개발재원',\n",
       " '계속과제여부구분',\n",
       " '이전과제번호',\n",
       " '과제번호',\n",
       " '과제고유번호',\n",
       " '연구수행주체',\n",
       " '지역구분',\n",
       " '연구분야분류코드1',\n",
       " '연구분야분류1',\n",
       " '연구분야분류코드2',\n",
       " '연구분야분류2',\n",
       " '연구분야분류가중치2',\n",
       " '연구분야분류코드3',\n",
       " '연구분야분류3',\n",
       " '연구분야분류가중치3',\n",
       " '적용분야분류코드1',\n",
       " '적용분야분류1',\n",
       " '적용분야분류가중치1',\n",
       " '적용분야분류코드2',\n",
       " '적용분야분류2',\n",
       " '적용분야분류가중치2',\n",
       " '적용분야분류코드3',\n",
       " '적용분야분류3',\n",
       " '적용분야분류가중치3',\n",
       " '녹색기술분야분류코드',\n",
       " '녹색기술분야분류',\n",
       " '기술6T관련코드',\n",
       " '국가전략기술',\n",
       " '기술수명주기',\n",
       " '세부과제성격',\n",
       " '보안과제여부',\n",
       " '보안과제해제년월',\n",
       " '다년도협약구분',\n",
       " '당해연도연구기간시작일',\n",
       " '당해연도연구기간종료일',\n",
       " '과제수행기관코드',\n",
       " '과제수행기관',\n",
       " '사업자등록번호',\n",
       " '부처자제분류_대분류코드',\n",
       " '부처자제분류_대분류',\n",
       " '부처자제분류_중분류코드',\n",
       " '부처자제분류_중분류',\n",
       " '부처자제분류_소분류코드',\n",
       " '부처자제분류_소분류',\n",
       " '실용화대상여부구분',\n",
       " '연구개발단계',\n",
       " '연구개발성격구분',\n",
       " '과제진행상태구분',\n",
       " '최종보고서발생여부',\n",
       " '과제협약일',\n",
       " '조사분석확정여부',\n",
       " '사업기간',\n",
       " '당해사업예산',\n",
       " '집행금액',\n",
       " '협약금액',\n",
       " '정부투자연구비',\n",
       " '인건비현금금액',\n",
       " '인건비현물금액',\n",
       " '직접비현금금액',\n",
       " '직접비현물금액',\n",
       " '간접비금액',\n",
       " '위탁연구비금액',\n",
       " '물건비금액',\n",
       " '민간연구비지방정부현금금액',\n",
       " '민간연구비지방정부현물금액',\n",
       " '민간연구비대학현금금액',\n",
       " '민간연구비대학현물금액',\n",
       " '민간연구비대기업현금금액',\n",
       " '민간연구비대기업현물금액',\n",
       " '민간연구비중견기업현금금액',\n",
       " '민간연구비중견기업현물금액',\n",
       " '민간연구비중소기업현금',\n",
       " '민간연구비중소기업현물금액',\n",
       " '민간연구비기타현금금액',\n",
       " '민간연구비기타현물금액',\n",
       " '과제건수',\n",
       " '연구분야분류가중치1',\n",
       " '성과발생년도',\n",
       " '성과ID',\n",
       " '사업화명',\n",
       " '사업화주체_업체명',\n",
       " '사업화주체_사업자등록번호',\n",
       " '사업화형태코드',\n",
       " '사업화형태',\n",
       " '사업화년도',\n",
       " '제품명',\n",
       " '고용창출인원수',\n",
       " '기매출액',\n",
       " '당해년도매출액',\n",
       " '사업화성과건수',\n",
       " '중복건수.x',\n",
       " '당해년도매출평균',\n",
       " '고용창출인원평균',\n",
       " '연구분야대분류',\n",
       " '연구분야중분류',\n",
       " '번호',\n",
       " '중복건수.y',\n",
       " '정부투자연구비평균']"
      ]
     },
     "execution_count": 20,
     "metadata": {},
     "output_type": "execute_result"
    }
   ],
   "source": [
    "names.remove('연구개발성격구분(신)')\n",
    "names.remove('기준년도')\n",
    "names"
   ]
  },
  {
   "cell_type": "code",
   "execution_count": 21,
   "metadata": {},
   "outputs": [
    {
     "data": {
      "text/plain": [
       "['연구개발성격구분(신)',\n",
       " '기준년도',\n",
       " 'row ID',\n",
       " '사업목적분류',\n",
       " '사업명',\n",
       " '프로그램코드',\n",
       " '단위사업코드',\n",
       " '세부사업코드',\n",
       " '사업부처코드',\n",
       " '사업부처',\n",
       " '연구개발재원',\n",
       " '계속과제여부구분',\n",
       " '이전과제번호',\n",
       " '과제번호',\n",
       " '과제고유번호',\n",
       " '연구수행주체',\n",
       " '지역구분',\n",
       " '연구분야분류코드1',\n",
       " '연구분야분류1',\n",
       " '연구분야분류코드2',\n",
       " '연구분야분류2',\n",
       " '연구분야분류가중치2',\n",
       " '연구분야분류코드3',\n",
       " '연구분야분류3',\n",
       " '연구분야분류가중치3',\n",
       " '적용분야분류코드1',\n",
       " '적용분야분류1',\n",
       " '적용분야분류가중치1',\n",
       " '적용분야분류코드2',\n",
       " '적용분야분류2',\n",
       " '적용분야분류가중치2',\n",
       " '적용분야분류코드3',\n",
       " '적용분야분류3',\n",
       " '적용분야분류가중치3',\n",
       " '녹색기술분야분류코드',\n",
       " '녹색기술분야분류',\n",
       " '기술6T관련코드',\n",
       " '국가전략기술',\n",
       " '기술수명주기',\n",
       " '세부과제성격',\n",
       " '보안과제여부',\n",
       " '보안과제해제년월',\n",
       " '다년도협약구분',\n",
       " '당해연도연구기간시작일',\n",
       " '당해연도연구기간종료일',\n",
       " '과제수행기관코드',\n",
       " '과제수행기관',\n",
       " '사업자등록번호',\n",
       " '부처자제분류_대분류코드',\n",
       " '부처자제분류_대분류',\n",
       " '부처자제분류_중분류코드',\n",
       " '부처자제분류_중분류',\n",
       " '부처자제분류_소분류코드',\n",
       " '부처자제분류_소분류',\n",
       " '실용화대상여부구분',\n",
       " '연구개발단계',\n",
       " '연구개발성격구분',\n",
       " '과제진행상태구분',\n",
       " '최종보고서발생여부',\n",
       " '과제협약일',\n",
       " '조사분석확정여부',\n",
       " '사업기간',\n",
       " '당해사업예산',\n",
       " '집행금액',\n",
       " '협약금액',\n",
       " '정부투자연구비',\n",
       " '인건비현금금액',\n",
       " '인건비현물금액',\n",
       " '직접비현금금액',\n",
       " '직접비현물금액',\n",
       " '간접비금액',\n",
       " '위탁연구비금액',\n",
       " '물건비금액',\n",
       " '민간연구비지방정부현금금액',\n",
       " '민간연구비지방정부현물금액',\n",
       " '민간연구비대학현금금액',\n",
       " '민간연구비대학현물금액',\n",
       " '민간연구비대기업현금금액',\n",
       " '민간연구비대기업현물금액',\n",
       " '민간연구비중견기업현금금액',\n",
       " '민간연구비중견기업현물금액',\n",
       " '민간연구비중소기업현금',\n",
       " '민간연구비중소기업현물금액',\n",
       " '민간연구비기타현금금액',\n",
       " '민간연구비기타현물금액',\n",
       " '과제건수',\n",
       " '연구분야분류가중치1',\n",
       " '성과발생년도',\n",
       " '성과ID',\n",
       " '사업화명',\n",
       " '사업화주체_업체명',\n",
       " '사업화주체_사업자등록번호',\n",
       " '사업화형태코드',\n",
       " '사업화형태',\n",
       " '사업화년도',\n",
       " '제품명',\n",
       " '고용창출인원수',\n",
       " '기매출액',\n",
       " '당해년도매출액',\n",
       " '사업화성과건수',\n",
       " '중복건수.x',\n",
       " '당해년도매출평균',\n",
       " '고용창출인원평균',\n",
       " '연구분야대분류',\n",
       " '연구분야중분류',\n",
       " '번호',\n",
       " '중복건수.y',\n",
       " '정부투자연구비평균']"
      ]
     },
     "execution_count": 21,
     "metadata": {},
     "output_type": "execute_result"
    }
   ],
   "source": [
    "names2 = ['연구개발성격구분(신)', '기준년도'] + names\n",
    "names2"
   ]
  },
  {
   "cell_type": "code",
   "execution_count": 22,
   "metadata": {},
   "outputs": [
    {
     "data": {
      "text/html": [
       "<div>\n",
       "<style scoped>\n",
       "    .dataframe tbody tr th:only-of-type {\n",
       "        vertical-align: middle;\n",
       "    }\n",
       "\n",
       "    .dataframe tbody tr th {\n",
       "        vertical-align: top;\n",
       "    }\n",
       "\n",
       "    .dataframe thead th {\n",
       "        text-align: right;\n",
       "    }\n",
       "</style>\n",
       "<table border=\"1\" class=\"dataframe\">\n",
       "  <thead>\n",
       "    <tr style=\"text-align: right;\">\n",
       "      <th></th>\n",
       "      <th>연구개발성격구분(신)</th>\n",
       "      <th>기준년도</th>\n",
       "      <th>row ID</th>\n",
       "      <th>사업목적분류</th>\n",
       "      <th>사업명</th>\n",
       "      <th>프로그램코드</th>\n",
       "      <th>단위사업코드</th>\n",
       "      <th>세부사업코드</th>\n",
       "      <th>사업부처코드</th>\n",
       "      <th>사업부처</th>\n",
       "      <th>...</th>\n",
       "      <th>당해년도매출액</th>\n",
       "      <th>사업화성과건수</th>\n",
       "      <th>중복건수.x</th>\n",
       "      <th>당해년도매출평균</th>\n",
       "      <th>고용창출인원평균</th>\n",
       "      <th>연구분야대분류</th>\n",
       "      <th>연구분야중분류</th>\n",
       "      <th>번호</th>\n",
       "      <th>중복건수.y</th>\n",
       "      <th>정부투자연구비평균</th>\n",
       "    </tr>\n",
       "  </thead>\n",
       "  <tbody>\n",
       "    <tr>\n",
       "      <th>0</th>\n",
       "      <td>NaN</td>\n",
       "      <td>2007</td>\n",
       "      <td>Row125362</td>\n",
       "      <td>-</td>\n",
       "      <td>국제핵융합실험로공동개발사업</td>\n",
       "      <td>2.01E+15</td>\n",
       "      <td>2.01E+15</td>\n",
       "      <td>-</td>\n",
       "      <td>21</td>\n",
       "      <td>과학기술부</td>\n",
       "      <td>...</td>\n",
       "      <td>NaN</td>\n",
       "      <td>NaN</td>\n",
       "      <td>NaN</td>\n",
       "      <td>NaN</td>\n",
       "      <td>NaN</td>\n",
       "      <td>P8</td>\n",
       "      <td>P8</td>\n",
       "      <td>125363</td>\n",
       "      <td>1</td>\n",
       "      <td>10100000000</td>\n",
       "    </tr>\n",
       "    <tr>\n",
       "      <th>1</th>\n",
       "      <td>NaN</td>\n",
       "      <td>2007</td>\n",
       "      <td>Row125363</td>\n",
       "      <td>-</td>\n",
       "      <td>국제핵융합실험로공동개발사업</td>\n",
       "      <td>2.01E+15</td>\n",
       "      <td>2.01E+15</td>\n",
       "      <td>-</td>\n",
       "      <td>21</td>\n",
       "      <td>과학기술부</td>\n",
       "      <td>...</td>\n",
       "      <td>NaN</td>\n",
       "      <td>NaN</td>\n",
       "      <td>NaN</td>\n",
       "      <td>NaN</td>\n",
       "      <td>NaN</td>\n",
       "      <td>P8</td>\n",
       "      <td>P8</td>\n",
       "      <td>125364</td>\n",
       "      <td>1</td>\n",
       "      <td>682000000</td>\n",
       "    </tr>\n",
       "    <tr>\n",
       "      <th>2</th>\n",
       "      <td>NaN</td>\n",
       "      <td>2007</td>\n",
       "      <td>Row125364</td>\n",
       "      <td>-</td>\n",
       "      <td>국제핵융합실험로공동개발사업</td>\n",
       "      <td>2.01E+15</td>\n",
       "      <td>2.01E+15</td>\n",
       "      <td>-</td>\n",
       "      <td>21</td>\n",
       "      <td>과학기술부</td>\n",
       "      <td>...</td>\n",
       "      <td>NaN</td>\n",
       "      <td>NaN</td>\n",
       "      <td>NaN</td>\n",
       "      <td>NaN</td>\n",
       "      <td>NaN</td>\n",
       "      <td>P8</td>\n",
       "      <td>P8</td>\n",
       "      <td>125365</td>\n",
       "      <td>1</td>\n",
       "      <td>391000000</td>\n",
       "    </tr>\n",
       "  </tbody>\n",
       "</table>\n",
       "<p>3 rows × 108 columns</p>\n",
       "</div>"
      ],
      "text/plain": [
       "  연구개발성격구분(신)  기준년도     row ID 사업목적분류             사업명    프로그램코드    단위사업코드  \\\n",
       "0         NaN  2007  Row125362      -  국제핵융합실험로공동개발사업  2.01E+15  2.01E+15   \n",
       "1         NaN  2007  Row125363      -  국제핵융합실험로공동개발사업  2.01E+15  2.01E+15   \n",
       "2         NaN  2007  Row125364      -  국제핵융합실험로공동개발사업  2.01E+15  2.01E+15   \n",
       "\n",
       "  세부사업코드 사업부처코드   사업부처  ... 당해년도매출액 사업화성과건수 중복건수.x 당해년도매출평균  고용창출인원평균 연구분야대분류  \\\n",
       "0      -     21  과학기술부  ...     NaN     NaN    NaN      NaN       NaN      P8   \n",
       "1      -     21  과학기술부  ...     NaN     NaN    NaN      NaN       NaN      P8   \n",
       "2      -     21  과학기술부  ...     NaN     NaN    NaN      NaN       NaN      P8   \n",
       "\n",
       "  연구분야중분류      번호 중복건수.y    정부투자연구비평균  \n",
       "0      P8  125363      1  10100000000  \n",
       "1      P8  125364      1    682000000  \n",
       "2      P8  125365      1    391000000  \n",
       "\n",
       "[3 rows x 108 columns]"
      ]
     },
     "execution_count": 22,
     "metadata": {},
     "output_type": "execute_result"
    }
   ],
   "source": [
    "df[names2].head(3)"
   ]
  },
  {
   "cell_type": "markdown",
   "metadata": {},
   "source": [
    "## 질문 : 컬럼명 대신에 넘버 이용하는 방법은 ? "
   ]
  },
  {
   "cell_type": "markdown",
   "metadata": {},
   "source": [
    "### 방법1"
   ]
  },
  {
   "cell_type": "code",
   "execution_count": 45,
   "metadata": {},
   "outputs": [
    {
     "data": {
      "text/html": [
       "<div>\n",
       "<style scoped>\n",
       "    .dataframe tbody tr th:only-of-type {\n",
       "        vertical-align: middle;\n",
       "    }\n",
       "\n",
       "    .dataframe tbody tr th {\n",
       "        vertical-align: top;\n",
       "    }\n",
       "\n",
       "    .dataframe thead th {\n",
       "        text-align: right;\n",
       "    }\n",
       "</style>\n",
       "<table border=\"1\" class=\"dataframe\">\n",
       "  <thead>\n",
       "    <tr style=\"text-align: right;\">\n",
       "      <th></th>\n",
       "      <th>fruit</th>\n",
       "      <th>a-price</th>\n",
       "      <th>b-color</th>\n",
       "    </tr>\n",
       "  </thead>\n",
       "  <tbody>\n",
       "    <tr>\n",
       "      <th>0</th>\n",
       "      <td>apple</td>\n",
       "      <td>10</td>\n",
       "      <td>red</td>\n",
       "    </tr>\n",
       "    <tr>\n",
       "      <th>1</th>\n",
       "      <td>banana</td>\n",
       "      <td>20</td>\n",
       "      <td>yellow</td>\n",
       "    </tr>\n",
       "  </tbody>\n",
       "</table>\n",
       "</div>"
      ],
      "text/plain": [
       "    fruit  a-price b-color\n",
       "0   apple       10     red\n",
       "1  banana       20  yellow"
      ]
     },
     "execution_count": 45,
     "metadata": {},
     "output_type": "execute_result"
    }
   ],
   "source": [
    "# 임포트 판다스\n",
    "\n",
    "import pandas as pd\n",
    "from pandas import DataFrame, Series\n",
    "\n",
    "df = DataFrame( {'fruit':['apple','banana'], 'a-price':[10,20], 'b-color':['red','yellow']})\n",
    "df"
   ]
  },
  {
   "cell_type": "code",
   "execution_count": 48,
   "metadata": {},
   "outputs": [
    {
     "data": {
      "text/plain": [
       "['fruit', 'a-price', 'b-color']"
      ]
     },
     "execution_count": 48,
     "metadata": {},
     "output_type": "execute_result"
    }
   ],
   "source": [
    "names = df.columns.tolist()\n",
    "names"
   ]
  },
  {
   "cell_type": "code",
   "execution_count": 50,
   "metadata": {},
   "outputs": [
    {
     "data": {
      "text/html": [
       "<div>\n",
       "<style scoped>\n",
       "    .dataframe tbody tr th:only-of-type {\n",
       "        vertical-align: middle;\n",
       "    }\n",
       "\n",
       "    .dataframe tbody tr th {\n",
       "        vertical-align: top;\n",
       "    }\n",
       "\n",
       "    .dataframe thead th {\n",
       "        text-align: right;\n",
       "    }\n",
       "</style>\n",
       "<table border=\"1\" class=\"dataframe\">\n",
       "  <thead>\n",
       "    <tr style=\"text-align: right;\">\n",
       "      <th></th>\n",
       "      <th>fruit</th>\n",
       "      <th>b-color</th>\n",
       "    </tr>\n",
       "  </thead>\n",
       "  <tbody>\n",
       "    <tr>\n",
       "      <th>0</th>\n",
       "      <td>apple</td>\n",
       "      <td>red</td>\n",
       "    </tr>\n",
       "    <tr>\n",
       "      <th>1</th>\n",
       "      <td>banana</td>\n",
       "      <td>yellow</td>\n",
       "    </tr>\n",
       "  </tbody>\n",
       "</table>\n",
       "</div>"
      ],
      "text/plain": [
       "    fruit b-color\n",
       "0   apple     red\n",
       "1  banana  yellow"
      ]
     },
     "execution_count": 50,
     "metadata": {},
     "output_type": "execute_result"
    }
   ],
   "source": [
    "df[ [names[0], names[2]] ]"
   ]
  },
  {
   "cell_type": "markdown",
   "metadata": {},
   "source": [
    "### 방법2"
   ]
  },
  {
   "cell_type": "code",
   "execution_count": 53,
   "metadata": {},
   "outputs": [
    {
     "data": {
      "text/html": [
       "<div>\n",
       "<style scoped>\n",
       "    .dataframe tbody tr th:only-of-type {\n",
       "        vertical-align: middle;\n",
       "    }\n",
       "\n",
       "    .dataframe tbody tr th {\n",
       "        vertical-align: top;\n",
       "    }\n",
       "\n",
       "    .dataframe thead th {\n",
       "        text-align: right;\n",
       "    }\n",
       "</style>\n",
       "<table border=\"1\" class=\"dataframe\">\n",
       "  <thead>\n",
       "    <tr style=\"text-align: right;\">\n",
       "      <th></th>\n",
       "      <th>a-price</th>\n",
       "      <th>b-color</th>\n",
       "    </tr>\n",
       "  </thead>\n",
       "  <tbody>\n",
       "    <tr>\n",
       "      <th>0</th>\n",
       "      <td>10</td>\n",
       "      <td>red</td>\n",
       "    </tr>\n",
       "    <tr>\n",
       "      <th>1</th>\n",
       "      <td>20</td>\n",
       "      <td>yellow</td>\n",
       "    </tr>\n",
       "  </tbody>\n",
       "</table>\n",
       "</div>"
      ],
      "text/plain": [
       "   a-price b-color\n",
       "0       10     red\n",
       "1       20  yellow"
      ]
     },
     "execution_count": 53,
     "metadata": {},
     "output_type": "execute_result"
    }
   ],
   "source": [
    "df.iloc[:,1:3]"
   ]
  },
  {
   "cell_type": "markdown",
   "metadata": {},
   "source": [
    "# String Replacer"
   ]
  },
  {
   "cell_type": "code",
   "execution_count": 80,
   "metadata": {},
   "outputs": [
    {
     "data": {
      "text/plain": [
       "1기초연구    902\n",
       "2응용연구    180\n",
       "3개발연구    169\n",
       "4기타       37\n",
       "Name: 연구개발단계, dtype: int64"
      ]
     },
     "execution_count": 80,
     "metadata": {},
     "output_type": "execute_result"
    }
   ],
   "source": [
    "df['연구개발단계'].value_counts()"
   ]
  },
  {
   "cell_type": "code",
   "execution_count": 88,
   "metadata": {},
   "outputs": [],
   "source": [
    "def trans1(x):\n",
    "    if x == '1기초연구':\n",
    "        return '1'\n",
    "    elif x == '2응용연구':\n",
    "        return '2'\n",
    "    elif x == '3개발연구':\n",
    "        return '3'\n",
    "    elif x == '4기타':\n",
    "        return '4'"
   ]
  },
  {
   "cell_type": "code",
   "execution_count": 89,
   "metadata": {},
   "outputs": [
    {
     "data": {
      "text/html": [
       "<div>\n",
       "<style scoped>\n",
       "    .dataframe tbody tr th:only-of-type {\n",
       "        vertical-align: middle;\n",
       "    }\n",
       "\n",
       "    .dataframe tbody tr th {\n",
       "        vertical-align: top;\n",
       "    }\n",
       "\n",
       "    .dataframe thead th {\n",
       "        text-align: right;\n",
       "    }\n",
       "</style>\n",
       "<table border=\"1\" class=\"dataframe\">\n",
       "  <thead>\n",
       "    <tr style=\"text-align: right;\">\n",
       "      <th></th>\n",
       "      <th>연구개발단계(to_number)</th>\n",
       "      <th>연구개발단계</th>\n",
       "    </tr>\n",
       "  </thead>\n",
       "  <tbody>\n",
       "    <tr>\n",
       "      <th>0</th>\n",
       "      <td>1</td>\n",
       "      <td>1기초연구</td>\n",
       "    </tr>\n",
       "    <tr>\n",
       "      <th>1</th>\n",
       "      <td>1</td>\n",
       "      <td>1기초연구</td>\n",
       "    </tr>\n",
       "    <tr>\n",
       "      <th>2</th>\n",
       "      <td>1</td>\n",
       "      <td>1기초연구</td>\n",
       "    </tr>\n",
       "    <tr>\n",
       "      <th>3</th>\n",
       "      <td>1</td>\n",
       "      <td>1기초연구</td>\n",
       "    </tr>\n",
       "    <tr>\n",
       "      <th>4</th>\n",
       "      <td>1</td>\n",
       "      <td>1기초연구</td>\n",
       "    </tr>\n",
       "    <tr>\n",
       "      <th>...</th>\n",
       "      <td>...</td>\n",
       "      <td>...</td>\n",
       "    </tr>\n",
       "    <tr>\n",
       "      <th>1283</th>\n",
       "      <td>4</td>\n",
       "      <td>4기타</td>\n",
       "    </tr>\n",
       "    <tr>\n",
       "      <th>1284</th>\n",
       "      <td>2</td>\n",
       "      <td>2응용연구</td>\n",
       "    </tr>\n",
       "    <tr>\n",
       "      <th>1285</th>\n",
       "      <td>2</td>\n",
       "      <td>2응용연구</td>\n",
       "    </tr>\n",
       "    <tr>\n",
       "      <th>1286</th>\n",
       "      <td>3</td>\n",
       "      <td>3개발연구</td>\n",
       "    </tr>\n",
       "    <tr>\n",
       "      <th>1287</th>\n",
       "      <td>2</td>\n",
       "      <td>2응용연구</td>\n",
       "    </tr>\n",
       "  </tbody>\n",
       "</table>\n",
       "<p>1288 rows × 2 columns</p>\n",
       "</div>"
      ],
      "text/plain": [
       "     연구개발단계(to_number) 연구개발단계\n",
       "0                    1  1기초연구\n",
       "1                    1  1기초연구\n",
       "2                    1  1기초연구\n",
       "3                    1  1기초연구\n",
       "4                    1  1기초연구\n",
       "...                ...    ...\n",
       "1283                 4    4기타\n",
       "1284                 2  2응용연구\n",
       "1285                 2  2응용연구\n",
       "1286                 3  3개발연구\n",
       "1287                 2  2응용연구\n",
       "\n",
       "[1288 rows x 2 columns]"
      ]
     },
     "execution_count": 89,
     "metadata": {},
     "output_type": "execute_result"
    }
   ],
   "source": [
    "df['연구개발단계(to_number)'] = df['연구개발단계'].map(lambda x : trans1(x))\n",
    "df[['연구개발단계(to_number)','연구개발단계']]"
   ]
  },
  {
   "cell_type": "code",
   "execution_count": null,
   "metadata": {},
   "outputs": [],
   "source": []
  },
  {
   "cell_type": "markdown",
   "metadata": {},
   "source": [
    "# String to Number"
   ]
  },
  {
   "cell_type": "code",
   "execution_count": 92,
   "metadata": {},
   "outputs": [],
   "source": [
    "df['연구개발단계(to_number)'] = df['연구개발단계(to_number)'].astype(int)"
   ]
  },
  {
   "cell_type": "code",
   "execution_count": 93,
   "metadata": {},
   "outputs": [
    {
     "data": {
      "text/plain": [
       "0       1\n",
       "1       1\n",
       "2       1\n",
       "3       1\n",
       "4       1\n",
       "       ..\n",
       "1283    4\n",
       "1284    2\n",
       "1285    2\n",
       "1286    3\n",
       "1287    2\n",
       "Name: 연구개발단계(to_number), Length: 1288, dtype: int64"
      ]
     },
     "execution_count": 93,
     "metadata": {},
     "output_type": "execute_result"
    }
   ],
   "source": [
    "df['연구개발단계(to_number)'] "
   ]
  },
  {
   "cell_type": "code",
   "execution_count": null,
   "metadata": {},
   "outputs": [],
   "source": []
  }
 ],
 "metadata": {
  "kernelspec": {
   "display_name": "Python 3",
   "language": "python",
   "name": "python3"
  },
  "language_info": {
   "codemirror_mode": {
    "name": "ipython",
    "version": 3
   },
   "file_extension": ".py",
   "mimetype": "text/x-python",
   "name": "python",
   "nbconvert_exporter": "python",
   "pygments_lexer": "ipython3",
   "version": "3.7.7"
  },
  "toc-autonumbering": true
 },
 "nbformat": 4,
 "nbformat_minor": 4
}
